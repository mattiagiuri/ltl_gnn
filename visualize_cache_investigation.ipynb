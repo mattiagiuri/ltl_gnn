{
 "cells": [
  {
   "cell_type": "code",
   "execution_count": 1,
   "id": "d3e2aaad-0a01-4d80-851d-37930e618807",
   "metadata": {},
   "outputs": [
    {
     "name": "stdout",
     "output_type": "stream",
     "text": [
      "{'aqua': aqua, 'blue': blue, 'green': green, 'magenta': magenta, 'orange': orange, 'red': red, 'yellow': yellow, 'EPSILON': EPSILON, 'NULL': NULL, 'blank': blank}\n",
      "{'EPSILON': EPSILON, 'NULL': NULL, 'queen': queen, 'rook': rook, 'knight': knight, 'bishop': bishop, 'pawn': pawn, 'blank': blank}\n",
      "['blue', 'green', 'magenta', 'yellow', 'right', 'top']\n",
      "{'blue': blue, 'green': green, 'magenta': magenta, 'yellow': yellow, 'right': right, 'top': top, 'EPSILON': EPSILON, 'NULL': NULL, 'blank': blank}\n",
      "{22} {15} blank\n",
      "5467\n"
     ]
    }
   ],
   "source": [
    "from envs import make_env\n",
    "from envs.zones.quadrants import Quadrant\n",
    "from ltl.samplers import AvoidSampler\n",
    "from sequence.samplers.curriculum_sampler import NewZonesCurriculumSampler\n",
    "from sequence.samplers.zones_formula_samplers import zonenv_sample_reach\n",
    "from preprocessing import init_vocab, init_vars, assignment_vocab, var_names\n",
    "from sequence.samplers.curriculum import RandomCurriculumStage\n",
    "import time\n",
    "from model.formulae_utils.ContextMaker import ContextMaker\n",
    "\n",
    "sampler_wrapper = RandomCurriculumStage(sampler=zonenv_sample_reach(2), threshold_type=None, threshold=None)\n",
    "sampler = NewZonesCurriculumSampler.partial(sampler_wrapper)\n",
    "# sampler = AvoidSampler.partial(depth=2, num_conjuncts=1)\n",
    "env = make_env('PointLtl2Debug-v0', sampler, render_mode='human', max_steps=2000, areas_mode=True, sequence=True)\n",
    "# print(env.areas_mode)\n",
    "# print(env.observation_space.spaces.keys())\n",
    "# env = make_env('PointLtl2-v0', sampler, render_mode='human', max_steps=2000)\n",
    "\n",
    "start = time.time()\n",
    "observation = env.reset(seed=1)\n",
    "end = time.time()\n",
    "\n",
    "true_vars = env.get_propositions()\n",
    "print(true_vars)\n",
    "var_names = list(true_vars) + ['EPSILON', 'NULL', 'blank']\n",
    "augment_neg = ['!right', '!top']\n",
    "augment_neg = []\n",
    "\n",
    "sample_voc = {0: 'PAD', 1: 'EPSILON', 2: 'NULL', 3: 'blue', 4: 'green', 5: 'magenta', 6: 'yellow', 7: 'right', 8: 'top',\n",
    "              9: 'right&blue', 10: 'right&green', 11: 'right&magenta', 12: 'right&yellow', 13: 'top&blue',\n",
    "              14: 'top&green', 15: 'top&magenta', 16: 'top&yellow', 17: 'right&top', 18: 'right&top&blue',\n",
    "              19: 'right&top&green', 20: 'right&top&magenta', 21: 'right&top&yellow', 22: 'blank'}\n",
    "\n",
    "cm = ContextMaker(sample_voc, var_names, true_vars, augment_neg)\n",
    "cm.generate_cache()\n",
    "cm.check_cache_correctness()\n",
    "\n",
    "print(len(cm.cache))\n",
    "# for k, v in cm.cache.items():\n",
    "#     print(k, v)\n",
    "\n",
    "\n"
   ]
  },
  {
   "cell_type": "code",
   "execution_count": 2,
   "id": "4fd7af13-beb7-4ff1-a727-3f97d63d5c77",
   "metadata": {},
   "outputs": [],
   "source": [
    "# i = 0\n",
    "# thresh = 100\n",
    "\n",
    "\n",
    "\n",
    "# for k, v in cm.cache.items():\n",
    "#     print(k, v)\n",
    "\n",
    "#     i += 1\n",
    "#     if i == thresh:\n",
    "#         break"
   ]
  },
  {
   "cell_type": "code",
   "execution_count": 3,
   "id": "60c367ea-e521-4657-ad93-055456bc185e",
   "metadata": {},
   "outputs": [
    {
     "name": "stdout",
     "output_type": "stream",
     "text": [
      "(3, 9, 13, 18) blue\n",
      "(4, 10, 14, 19) green\n",
      "(5, 11, 15, 20) magenta\n",
      "(6, 12, 16, 21) yellow\n",
      "(7, 9, 10, 11, 12, 17, 18, 19, 20, 21) right\n",
      "(8, 13, 14, 15, 16, 17, 18, 19, 20, 21) top\n",
      "(4, 5, 6, 7, 8, 10, 11, 12, 14, 15, 16, 17, 19, 20, 21, 22) ~blue\n",
      "(3, 5, 6, 7, 8, 9, 11, 12, 13, 15, 16, 17, 18, 20, 21, 22) ~green\n",
      "(3, 4, 6, 7, 8, 9, 10, 12, 13, 14, 16, 17, 18, 19, 21, 22) ~magenta\n",
      "(3, 4, 5, 7, 8, 9, 10, 11, 13, 14, 15, 17, 18, 19, 20, 22) ~yellow\n",
      "(3, 4, 5, 6, 8, 13, 14, 15, 16, 22) ~right\n",
      "(3, 4, 5, 6, 7, 9, 10, 11, 12, 22) ~top\n"
     ]
    }
   ],
   "source": [
    "for i in cm.formula_kinds['or']['positive'][1]:\n",
    "    print(i, cm.cache[i])\n",
    "\n",
    "for i in cm.formula_kinds['or']['negative'][1]:\n",
    "    print(i, cm.cache[i])"
   ]
  },
  {
   "cell_type": "code",
   "execution_count": 4,
   "id": "5a1867bc-38c1-43c2-8e63-cf5b1f1e93c3",
   "metadata": {},
   "outputs": [
    {
     "name": "stdout",
     "output_type": "stream",
     "text": [
      "(3, 4, 9, 10, 13, 14, 18, 19) blue | green\n",
      "(3, 5, 9, 11, 13, 15, 18, 20) blue | magenta\n",
      "(3, 6, 9, 12, 13, 16, 18, 21) blue | yellow\n",
      "(3, 7, 9, 10, 11, 12, 13, 17, 18, 19, 20, 21) blue | right\n",
      "(3, 8, 9, 13, 14, 15, 16, 17, 18, 19, 20, 21) blue | top\n",
      "(4, 5, 10, 11, 14, 15, 19, 20) green | magenta\n",
      "(4, 6, 10, 12, 14, 16, 19, 21) green | yellow\n",
      "(4, 7, 9, 10, 11, 12, 14, 17, 18, 19, 20, 21) green | right\n",
      "(4, 8, 10, 13, 14, 15, 16, 17, 18, 19, 20, 21) green | top\n",
      "(5, 6, 11, 12, 15, 16, 20, 21) magenta | yellow\n",
      "(5, 7, 9, 10, 11, 12, 15, 17, 18, 19, 20, 21) magenta | right\n",
      "(5, 8, 11, 13, 14, 15, 16, 17, 18, 19, 20, 21) magenta | top\n",
      "(6, 7, 9, 10, 11, 12, 16, 17, 18, 19, 20, 21) right | yellow\n",
      "(6, 8, 12, 13, 14, 15, 16, 17, 18, 19, 20, 21) top | yellow\n",
      "(7, 8, 9, 10, 11, 12, 13, 14, 15, 16, 17, 18, 19, 20, 21) right | top\n",
      "(5, 6, 7, 8, 11, 12, 15, 16, 17, 20, 21, 22) ~(blue | green)\n",
      "(4, 6, 7, 8, 10, 12, 14, 16, 17, 19, 21, 22) ~(blue | magenta)\n",
      "(4, 5, 7, 8, 10, 11, 14, 15, 17, 19, 20, 22) ~(blue | yellow)\n",
      "(4, 5, 6, 8, 14, 15, 16, 22) ~(blue | right)\n",
      "(4, 5, 6, 7, 10, 11, 12, 22) ~(blue | top)\n",
      "(3, 6, 7, 8, 9, 12, 13, 16, 17, 18, 21, 22) ~(green | magenta)\n",
      "(3, 5, 7, 8, 9, 11, 13, 15, 17, 18, 20, 22) ~(green | yellow)\n",
      "(3, 5, 6, 8, 13, 15, 16, 22) ~(green | right)\n",
      "(3, 5, 6, 7, 9, 11, 12, 22) ~(green | top)\n",
      "(3, 4, 7, 8, 9, 10, 13, 14, 17, 18, 19, 22) ~(magenta | yellow)\n",
      "(3, 4, 6, 8, 13, 14, 16, 22) ~(magenta | right)\n",
      "(3, 4, 6, 7, 9, 10, 12, 22) ~(magenta | top)\n",
      "(3, 4, 5, 8, 13, 14, 15, 22) ~(right | yellow)\n",
      "(3, 4, 5, 7, 9, 10, 11, 22) ~(top | yellow)\n",
      "(3, 4, 5, 6, 22) ~(right | top)\n"
     ]
    }
   ],
   "source": [
    "for i in cm.formula_kinds['or']['positive'][2]:\n",
    "    print(i, cm.cache[i])\n",
    "\n",
    "for i in cm.formula_kinds['or']['negative'][2]:\n",
    "    print(i, cm.cache[i])"
   ]
  },
  {
   "cell_type": "code",
   "execution_count": 5,
   "id": "4af6b566-6d9f-4fce-99ba-44322ec6fd36",
   "metadata": {},
   "outputs": [
    {
     "name": "stdout",
     "output_type": "stream",
     "text": [
      "(9, 18) blue & right\n",
      "(13, 18) blue & top\n",
      "(10, 19) green & right\n",
      "(14, 19) green & top\n",
      "(11, 20) magenta & right\n",
      "(15, 20) magenta & top\n",
      "(12, 21) right & yellow\n",
      "(16, 21) top & yellow\n",
      "(17, 18, 19, 20, 21) right & top\n"
     ]
    }
   ],
   "source": [
    "for i in cm.formula_kinds['and']['positive'][2]:\n",
    "    print(i, cm.cache[i])"
   ]
  },
  {
   "cell_type": "code",
   "execution_count": 6,
   "id": "28aa92ac-89c2-4ec3-856c-5cacaebcd894",
   "metadata": {},
   "outputs": [
    {
     "name": "stdout",
     "output_type": "stream",
     "text": [
      "(3, 13) blue & ~right\n",
      "(3, 9) blue & ~top\n",
      "(4, 14) green & ~right\n",
      "(4, 10) green & ~top\n",
      "(5, 15) magenta & ~right\n",
      "(5, 11) magenta & ~top\n",
      "(6, 16) yellow & ~right\n",
      "(6, 12) yellow & ~top\n",
      "(7, 10, 11, 12, 17, 19, 20, 21) right & ~blue\n",
      "(7, 9, 10, 11, 17, 18, 19, 20) right & ~yellow\n",
      "(7, 9, 10, 12, 17, 18, 19, 21) right & ~magenta\n",
      "(7, 9, 11, 12, 17, 18, 20, 21) right & ~green\n",
      "(7, 9, 10, 11, 12) right & ~top\n",
      "(8, 14, 15, 16, 17, 19, 20, 21) top & ~blue\n",
      "(8, 13, 14, 15, 17, 18, 19, 20) top & ~yellow\n",
      "(8, 13, 14, 16, 17, 18, 19, 21) top & ~magenta\n",
      "(8, 13, 14, 15, 16) top & ~right\n",
      "(8, 13, 15, 16, 17, 18, 20, 21) top & ~green\n"
     ]
    }
   ],
   "source": [
    "for i in cm.formula_kinds['or_x_and_not_y']['positive'][(1, 1)]:\n",
    "    print(i, cm.cache[i])"
   ]
  },
  {
   "cell_type": "code",
   "execution_count": 7,
   "id": "17e7baab-f328-4f21-a17c-92f0c66ac1c5",
   "metadata": {},
   "outputs": [
    {
     "name": "stdout",
     "output_type": "stream",
     "text": [
      "(5, 6, 7, 8, 9, 10, 11, 12, 15, 16, 17, 18, 19, 20, 21, 22) right | ~(blue | green)\n",
      "(5, 6, 7, 8, 11, 12, 13, 14, 15, 16, 17, 18, 19, 20, 21, 22) top | ~(blue | green)\n",
      "(4, 6, 7, 8, 9, 10, 11, 12, 14, 16, 17, 18, 19, 20, 21, 22) right | ~(blue | magenta)\n",
      "(4, 6, 7, 8, 10, 12, 13, 14, 15, 16, 17, 18, 19, 20, 21, 22) top | ~(blue | magenta)\n",
      "(4, 5, 7, 8, 9, 10, 11, 12, 14, 15, 17, 18, 19, 20, 21, 22) right | ~(blue | yellow)\n",
      "(4, 5, 7, 8, 10, 11, 13, 14, 15, 16, 17, 18, 19, 20, 21, 22) top | ~(blue | yellow)\n",
      "(4, 5, 6, 8, 10, 14, 15, 16, 19, 22) green | ~(blue | right)\n",
      "(4, 5, 6, 8, 13, 14, 15, 16, 17, 18, 19, 20, 21, 22) top | ~(blue | right)\n",
      "(4, 5, 6, 8, 12, 14, 15, 16, 21, 22) yellow | ~(blue | right)\n",
      "(4, 5, 6, 8, 11, 14, 15, 16, 20, 22) magenta | ~(blue | right)\n",
      "(4, 5, 6, 7, 9, 10, 11, 12, 17, 18, 19, 20, 21, 22) right | ~(blue | top)\n",
      "(4, 5, 6, 7, 10, 11, 12, 14, 19, 22) green | ~(blue | top)\n",
      "(4, 5, 6, 7, 10, 11, 12, 16, 21, 22) yellow | ~(blue | top)\n",
      "(4, 5, 6, 7, 10, 11, 12, 15, 20, 22) magenta | ~(blue | top)\n",
      "(3, 6, 7, 8, 9, 10, 11, 12, 13, 16, 17, 18, 19, 20, 21, 22) right | ~(green | magenta)\n",
      "(3, 6, 7, 8, 9, 12, 13, 14, 15, 16, 17, 18, 19, 20, 21, 22) top | ~(green | magenta)\n",
      "(3, 5, 7, 8, 9, 10, 11, 12, 13, 15, 17, 18, 19, 20, 21, 22) right | ~(green | yellow)\n",
      "(3, 5, 7, 8, 9, 11, 13, 14, 15, 16, 17, 18, 19, 20, 21, 22) top | ~(green | yellow)\n",
      "(3, 5, 6, 8, 9, 13, 15, 16, 18, 22) blue | ~(green | right)\n",
      "(3, 5, 6, 8, 13, 14, 15, 16, 17, 18, 19, 20, 21, 22) top | ~(green | right)\n",
      "(3, 5, 6, 8, 12, 13, 15, 16, 21, 22) yellow | ~(green | right)\n",
      "(3, 5, 6, 8, 11, 13, 15, 16, 20, 22) magenta | ~(green | right)\n",
      "(3, 5, 6, 7, 9, 10, 11, 12, 17, 18, 19, 20, 21, 22) right | ~(green | top)\n",
      "(3, 5, 6, 7, 9, 11, 12, 13, 18, 22) blue | ~(green | top)\n",
      "(3, 5, 6, 7, 9, 11, 12, 16, 21, 22) yellow | ~(green | top)\n",
      "(3, 5, 6, 7, 9, 11, 12, 15, 20, 22) magenta | ~(green | top)\n",
      "(3, 4, 7, 8, 9, 10, 11, 12, 13, 14, 17, 18, 19, 20, 21, 22) right | ~(magenta | yellow)\n",
      "(3, 4, 7, 8, 9, 10, 13, 14, 15, 16, 17, 18, 19, 20, 21, 22) top | ~(magenta | yellow)\n",
      "(3, 4, 6, 8, 9, 13, 14, 16, 18, 22) blue | ~(magenta | right)\n",
      "(3, 4, 6, 8, 10, 13, 14, 16, 19, 22) green | ~(magenta | right)\n",
      "(3, 4, 6, 8, 13, 14, 15, 16, 17, 18, 19, 20, 21, 22) top | ~(magenta | right)\n",
      "(3, 4, 6, 8, 12, 13, 14, 16, 21, 22) yellow | ~(magenta | right)\n",
      "(3, 4, 6, 7, 9, 10, 11, 12, 17, 18, 19, 20, 21, 22) right | ~(magenta | top)\n",
      "(3, 4, 6, 7, 9, 10, 12, 13, 18, 22) blue | ~(magenta | top)\n",
      "(3, 4, 6, 7, 9, 10, 12, 14, 19, 22) green | ~(magenta | top)\n",
      "(3, 4, 6, 7, 9, 10, 12, 16, 21, 22) yellow | ~(magenta | top)\n",
      "(3, 4, 5, 8, 9, 13, 14, 15, 18, 22) blue | ~(right | yellow)\n",
      "(3, 4, 5, 8, 10, 13, 14, 15, 19, 22) green | ~(right | yellow)\n",
      "(3, 4, 5, 8, 13, 14, 15, 16, 17, 18, 19, 20, 21, 22) top | ~(right | yellow)\n",
      "(3, 4, 5, 8, 11, 13, 14, 15, 20, 22) magenta | ~(right | yellow)\n",
      "(3, 4, 5, 7, 9, 10, 11, 12, 17, 18, 19, 20, 21, 22) right | ~(top | yellow)\n",
      "(3, 4, 5, 7, 9, 10, 11, 13, 18, 22) blue | ~(top | yellow)\n",
      "(3, 4, 5, 7, 9, 10, 11, 14, 19, 22) green | ~(top | yellow)\n",
      "(3, 4, 5, 7, 9, 10, 11, 15, 20, 22) magenta | ~(top | yellow)\n",
      "(3, 4, 5, 6, 9, 13, 18, 22) blue | ~(right | top)\n",
      "(3, 4, 5, 6, 10, 14, 19, 22) green | ~(right | top)\n",
      "(3, 4, 5, 6, 12, 16, 21, 22) yellow | ~(right | top)\n",
      "(3, 4, 5, 6, 11, 15, 20, 22) magenta | ~(right | top)\n"
     ]
    }
   ],
   "source": [
    "for i in cm.formula_kinds['or_x_and_not_y']['negative'][(2, 1)]:\n",
    "    print(i, cm.cache[i])"
   ]
  },
  {
   "cell_type": "code",
   "execution_count": 8,
   "id": "c3fd381b-2a18-4062-b4d7-899d32de77ac",
   "metadata": {},
   "outputs": [
    {
     "data": {
      "text/latex": [
       "$\\displaystyle right \\wedge yellow$"
      ],
      "text/plain": [
       "right & yellow"
      ]
     },
     "execution_count": 8,
     "metadata": {},
     "output_type": "execute_result"
    }
   ],
   "source": [
    "weird_2 = set((3, 4, 5, 7, 9, 10, 11, 17, 18, 19, 20, 22))\n",
    "\n",
    "\n",
    "cm.cache[(12, 21)]"
   ]
  },
  {
   "cell_type": "code",
   "execution_count": 9,
   "id": "01c5c258-0ec1-425f-be11-982cdc34971e",
   "metadata": {},
   "outputs": [
    {
     "name": "stdout",
     "output_type": "stream",
     "text": [
      "(3,) blue & ~(right | top)\n",
      "(4,) green & ~(right | top)\n",
      "(5,) magenta & ~(right | top)\n",
      "(6,) yellow & ~(right | top)\n",
      "(7, 10, 11, 17, 19, 20) right & ~(blue | yellow)\n",
      "(7, 10, 12, 17, 19, 21) right & ~(blue | magenta)\n",
      "(7, 11, 12, 17, 20, 21) right & ~(blue | green)\n",
      "(7, 10, 11, 12) right & ~(blue | top)\n",
      "(7, 9, 10, 17, 18, 19) right & ~(magenta | yellow)\n",
      "(7, 9, 11, 17, 18, 20) right & ~(green | yellow)\n",
      "(7, 9, 10, 11) right & ~(top | yellow)\n",
      "(7, 9, 12, 17, 18, 21) right & ~(green | magenta)\n",
      "(7, 9, 10, 12) right & ~(magenta | top)\n",
      "(7, 9, 11, 12) right & ~(green | top)\n",
      "(8, 14, 15, 17, 19, 20) top & ~(blue | yellow)\n",
      "(8, 14, 16, 17, 19, 21) top & ~(blue | magenta)\n",
      "(8, 14, 15, 16) top & ~(blue | right)\n",
      "(8, 15, 16, 17, 20, 21) top & ~(blue | green)\n",
      "(8, 13, 14, 17, 18, 19) top & ~(magenta | yellow)\n",
      "(8, 13, 14, 15) top & ~(right | yellow)\n",
      "(8, 13, 15, 17, 18, 20) top & ~(green | yellow)\n",
      "(8, 13, 14, 16) top & ~(magenta | right)\n",
      "(8, 13, 16, 17, 18, 21) top & ~(green | magenta)\n",
      "(8, 13, 15, 16) top & ~(green | right)\n"
     ]
    }
   ],
   "source": [
    "for i in cm.formula_kinds['or_x_and_not_y']['positive'][(1, 2)]:\n",
    "    print(i, cm.cache[i])"
   ]
  },
  {
   "cell_type": "code",
   "execution_count": 10,
   "id": "cdf54a29-5808-411e-9613-d1b6a2c95776",
   "metadata": {},
   "outputs": [
    {
     "name": "stdout",
     "output_type": "stream",
     "text": [
      "(3, 9, 13) blue & ~(right & top)\n",
      "(4, 10, 14) green & ~(right & top)\n",
      "(5, 11, 15) magenta & ~(right & top)\n",
      "(6, 12, 16) yellow & ~(right & top)\n",
      "(7, 9, 10, 11, 12, 17, 19, 20, 21) right & ~(blue & top)\n",
      "(7, 9, 10, 11, 12, 17, 18, 20, 21) right & ~(green & top)\n",
      "(7, 9, 10, 11, 12, 17, 18, 19, 21) right & ~(magenta & top)\n",
      "(7, 9, 10, 11, 12, 17, 18, 19, 20) right & ~(top & yellow)\n",
      "(8, 13, 14, 15, 16, 17, 19, 20, 21) top & ~(blue & right)\n",
      "(8, 13, 14, 15, 16, 17, 18, 20, 21) top & ~(green & right)\n",
      "(8, 13, 14, 15, 16, 17, 18, 19, 21) top & ~(magenta & right)\n",
      "(8, 13, 14, 15, 16, 17, 18, 19, 20) top & ~(right & yellow)\n"
     ]
    }
   ],
   "source": [
    "for i in cm.formula_kinds['or_x_and_not_ny']['positive'][(1, 2, 1)]:\n",
    "    print(i, cm.cache[i])"
   ]
  },
  {
   "cell_type": "code",
   "execution_count": 11,
   "id": "f34c80fb-b757-4c90-bd02-739b4d40e950",
   "metadata": {},
   "outputs": [
    {
     "data": {
      "text/latex": [
       "$\\displaystyle right \\wedge top$"
      ],
      "text/plain": [
       "right & top"
      ]
     },
     "execution_count": 11,
     "metadata": {},
     "output_type": "execute_result"
    }
   ],
   "source": [
    "cm.cache[(17, 18, 19, 20, 21)]"
   ]
  },
  {
   "cell_type": "code",
   "execution_count": 12,
   "id": "88cb0669-ae57-440b-bef7-bc8b67765fca",
   "metadata": {},
   "outputs": [
    {
     "data": {
      "text/latex": [
       "$\\displaystyle \\left(blue \\wedge top\\right) \\vee \\left(blue \\wedge \\neg right\\right)$"
      ],
      "text/plain": [
       "(blue & top) | (blue & ~right)"
      ]
     },
     "execution_count": 12,
     "metadata": {},
     "output_type": "execute_result"
    }
   ],
   "source": [
    "cm.make_formula((3, 13, 18))"
   ]
  },
  {
   "cell_type": "code",
   "execution_count": 23,
   "id": "d9e3da71-9782-461b-b0e3-11e4362143ee",
   "metadata": {},
   "outputs": [
    {
     "ename": "KeyError",
     "evalue": "(3, 13, 18)",
     "output_type": "error",
     "traceback": [
      "\u001b[0;31m---------------------------------------------------------------------------\u001b[0m",
      "\u001b[0;31mKeyError\u001b[0m                                  Traceback (most recent call last)",
      "Cell \u001b[0;32mIn[23], line 1\u001b[0m\n\u001b[0;32m----> 1\u001b[0m \u001b[43mcm\u001b[49m\u001b[38;5;241;43m.\u001b[39;49m\u001b[43mcache\u001b[49m\u001b[43m[\u001b[49m\u001b[43m(\u001b[49m\u001b[38;5;241;43m3\u001b[39;49m\u001b[43m,\u001b[49m\u001b[43m \u001b[49m\u001b[38;5;241;43m13\u001b[39;49m\u001b[43m,\u001b[49m\u001b[43m \u001b[49m\u001b[38;5;241;43m18\u001b[39;49m\u001b[43m)\u001b[49m\u001b[43m]\u001b[49m\n",
      "\u001b[0;31mKeyError\u001b[0m: (3, 13, 18)"
     ]
    }
   ],
   "source": [
    "cm.cache[(3, 13, 18)]"
   ]
  },
  {
   "cell_type": "code",
   "execution_count": 13,
   "id": "4a915918-f221-4342-8fb9-f90281b2c501",
   "metadata": {},
   "outputs": [
    {
     "name": "stdout",
     "output_type": "stream",
     "text": [
      "(blue & top) | (blue & ~right)\n",
      "blue & ~(right & top)\n",
      "blue & (right | top)\n",
      "(blue & right) | (blue & ~top)\n"
     ]
    }
   ],
   "source": [
    "blue = set([3, 9, 13, 18])\n",
    "\n",
    "for i in blue:\n",
    "    try:\n",
    "        print(cm.cache[tuple(sorted(list(blue - {i})))])\n",
    "    except KeyError:\n",
    "        print(cm.make_formula(tuple(blue - {i})))"
   ]
  },
  {
   "cell_type": "code",
   "execution_count": 14,
   "id": "43348d26-9aac-48fb-bc90-e9f6c854b5ca",
   "metadata": {},
   "outputs": [
    {
     "name": "stdout",
     "output_type": "stream",
     "text": [
      "(green & right) | (magenta & right) | (right & top) | (right & yellow) | (right & ~blue)\n"
     ]
    }
   ],
   "source": [
    "right = set((7, 9, 10, 11, 12, 17, 18, 19, 20, 21))\n",
    "\n",
    "weird = tuple(sorted(list(right - set([3, 9]))))\n",
    "\n",
    "try:\n",
    "    \n",
    "    print(cm.cache[weird])\n",
    "    print('fine')\n",
    "except KeyError:\n",
    "    \n",
    "    print(cm.make_formula(weird))"
   ]
  },
  {
   "cell_type": "code",
   "execution_count": 15,
   "id": "5c961b24-a721-45f2-96d6-d5a297fd5b84",
   "metadata": {},
   "outputs": [],
   "source": [
    "weird_2 = set((3, 4, 5, 7, 9, 10, 11, 17, 18, 19, 20, 22))\n",
    "not_yellow = set((3, 4, 5, 7, 8, 9, 10, 11, 13, 14, 15, 17, 18, 19, 20))"
   ]
  },
  {
   "cell_type": "code",
   "execution_count": 16,
   "id": "80941cbd-7571-4d9a-90b8-eac2a6909206",
   "metadata": {},
   "outputs": [
    {
     "data": {
      "text/plain": [
       "{8, 13, 14, 15}"
      ]
     },
     "execution_count": 16,
     "metadata": {},
     "output_type": "execute_result"
    }
   ],
   "source": [
    "not_yellow - weird_2"
   ]
  },
  {
   "cell_type": "code",
   "execution_count": 17,
   "id": "cd25bef6-78ab-4370-b95b-27d013c12634",
   "metadata": {},
   "outputs": [
    {
     "data": {
      "text/latex": [
       "$\\displaystyle top \\wedge \\neg \\left(right \\vee yellow\\right)$"
      ],
      "text/plain": [
       "top & ~(right | yellow)"
      ]
     },
     "execution_count": 17,
     "metadata": {},
     "output_type": "execute_result"
    }
   ],
   "source": [
    "cm.cache[(8, 13, 14, 15)]"
   ]
  },
  {
   "cell_type": "code",
   "execution_count": 18,
   "id": "2bc255c9-07ed-444d-a2db-602bd97bc1c3",
   "metadata": {},
   "outputs": [
    {
     "data": {
      "text/plain": [
       "{22}"
      ]
     },
     "execution_count": 18,
     "metadata": {},
     "output_type": "execute_result"
    }
   ],
   "source": [
    "weird_2 - not_yellow"
   ]
  },
  {
   "cell_type": "code",
   "execution_count": 19,
   "id": "4e0bdff2-e89e-4940-a8cc-938276b370a8",
   "metadata": {},
   "outputs": [
    {
     "data": {
      "text/plain": [
       "{7, 8, 9, 10, 11, 12, 13, 14, 15, 17, 18, 19, 20, 21}"
      ]
     },
     "execution_count": 19,
     "metadata": {},
     "output_type": "execute_result"
    }
   ],
   "source": [
    "right = set((7, 9, 10, 11, 12, 17, 18, 19, 20, 21))\n",
    "top = set((8, 13, 14, 15, 16, 17, 18, 19, 20, 21))\n",
    "yellow = set((6, 12, 16, 21))\n",
    "\n",
    "right | top & not_yellow"
   ]
  },
  {
   "cell_type": "code",
   "execution_count": 20,
   "id": "5e1c6906-8ceb-4fad-92c0-908273d92197",
   "metadata": {},
   "outputs": [
    {
     "data": {
      "text/latex": [
       "$\\displaystyle right \\vee yellow \\vee \\neg top$"
      ],
      "text/plain": [
       "right | yellow | ~top"
      ]
     },
     "execution_count": 20,
     "metadata": {},
     "output_type": "execute_result"
    }
   ],
   "source": [
    "test = tuple(sorted(weird_2 | yellow))\n",
    "cm.cache[test]"
   ]
  },
  {
   "cell_type": "code",
   "execution_count": 21,
   "id": "99276dfe-b103-41dc-bed3-543b4248fea7",
   "metadata": {},
   "outputs": [
    {
     "name": "stdout",
     "output_type": "stream",
     "text": [
      "{'PAD': 0, 'EPSILON': 1, 'NULL': 2, blue: 3, green: 4, magenta: 5, yellow: 6, right: 7, top: 8, right & blue: 9, right & green: 10, right & magenta: 11, right & yellow: 12, blue & top: 13, green & top: 14, top & magenta: 15, top & yellow: 16, right & top: 17, right & blue & top: 18, right & green & top: 19, right & top & magenta: 20, right & top & yellow: 21, : 22}\n"
     ]
    }
   ],
   "source": [
    "import itertools\n",
    "import random\n",
    "from pprint import pprint\n",
    "from typing import Callable\n",
    "\n",
    "from ltl.automata import LDBASequence\n",
    "from ltl.logic import Assignment, FrozenAssignment\n",
    "from envs import make_env\n",
    "from envs.zones.quadrants import Quadrant\n",
    "from ltl.samplers import AvoidSampler\n",
    "import time\n",
    "\n",
    "sampler = AvoidSampler.partial(depth=2, num_conjuncts=1)\n",
    "zone_env = make_env('PointLtl2Debug-v0', sampler, render_mode='human', max_steps=2000)\n",
    "\n",
    "FIXED = ['PAD', 'EPSILON', 'NULL']\n",
    "VOCAB = {k: i for i, k in enumerate(FIXED)}\n",
    "assignment_vocab = {i: k for i, k in enumerate(FIXED)}\n",
    "\n",
    "\n",
    "props = set(zone_env.get_propositions())\n",
    "assignments = zone_env.get_possible_assignments()\n",
    "# assignments.remove(Assignment.zero_propositions(zone_env.get_propositions()))\n",
    "all_assignments = [frozenset([a.to_frozen()]) for a in assignments]\n",
    "\n",
    "def init_vocab_p(assignments: list[Assignment]):\n",
    "    for a in assignments:\n",
    "        VOCAB[a.to_frozen()] = len(VOCAB)\n",
    "        assignment_name = \"&\".join([x for x, v in a.mapping.items() if v])\n",
    "        assignment_vocab[len(assignment_vocab)] = assignment_name if len(assignment_name) > 0 else \"blank\"\n",
    "\n",
    "assignment_vocab = init_vocab_p(assignments)\n",
    "print(VOCAB)\n",
    "\n",
    "complete_var_assignments = {}\n",
    "colors_only = {}\n",
    "areas_only = {}\n",
    "opposites = {'right': 'left', 'left': 'right', 'top': 'bottom', 'bottom': 'top'}\n",
    "\n",
    "\n",
    "agent_quadrant_to_assignment = {\n",
    "    Quadrant.TOP_RIGHT: Assignment.where('right', 'top', propositions=props).to_frozen(),\n",
    "    Quadrant.TOP_LEFT: Assignment.where('top', propositions=props).to_frozen(),\n",
    "    Quadrant.BOTTOM_RIGHT: Assignment.where('right', propositions=props).to_frozen(),\n",
    "    Quadrant.BOTTOM_LEFT: Assignment.zero_propositions(props).to_frozen()\n",
    "}\n",
    "\n",
    "# possible_avoids_from_location = {\n",
    "#     ('right', ): ['left', 'left&top', 'bottom&left'],\n",
    "#     ('left', ): ['right', 'right&top', 'bottom&right'],\n",
    "#     ('bottom', ): ['top', 'left&top', 'right&top'],\n",
    "#     ('top', ): ['bottom', 'bottom&left', 'bottom&right'],\n",
    "#     ('right', 'top'): ['bottom', 'bottom&left', 'bottom&right', 'left', 'left&top'],\n",
    "#     ('bottom', 'right'): ['left', 'bottom&left', 'right&top', 'top', 'left&top'],\n",
    "#     ('bottom', 'left'): ['right', 'right&top', 'bottom&right', 'top', 'left&top'],\n",
    "#     ('left', 'top'): ['bottom', 'bottom&left', 'bottom&right', 'right', 'right&top'],\n",
    "#\n",
    "# }\n",
    "\n",
    "\n",
    "possible_avoids_from_location = {\n",
    "    ('right', ): ['left'],\n",
    "    ('left', ): ['right'],\n",
    "    ('bottom', ): ['top'],\n",
    "    ('top', ): ['bottom'],\n",
    "    ('right', 'top'): ['bottom', 'left'],\n",
    "    ('bottom', 'right'): ['left', 'top'],\n",
    "    ('bottom', 'left'): ['right', 'top'],\n",
    "    ('left', 'top'): ['bottom', 'right'],\n",
    "\n",
    "}\n",
    "\n",
    "\n",
    "always_reachable_assignments = {('top',), ('right',), (), ('right', 'top')}\n",
    "\n",
    "complete_assignment = frozenset.union(*all_assignments)\n",
    "\n",
    "sample_voc = {0: 'PAD', 1: 'EPSILON', 2: 'NULL', 3: 'blue', 4: 'green', 5: 'magenta', 6: 'yellow', 7: 'right', 8: 'top',\n",
    "              9: 'right&blue', 10: 'right&green', 11: 'right&magenta', 12: 'right&yellow', 13: 'top&blue',\n",
    "              14: 'top&green', 15: 'top&magenta', 16: 'top&yellow', 17: 'right&top', 18: 'right&top&blue',\n",
    "              19: 'right&top&green', 20: 'right&top&magenta', 21: 'right&top&yellow', 22: 'blank'}\n",
    "\n",
    "\n",
    "def get_complete_var_assignments(cur_var: str) -> frozenset[FrozenAssignment]:\n",
    "    var_assignments = []\n",
    "    for assignment in assignments:\n",
    "        if cur_var == 'left':\n",
    "            if 'right' not in assignment.get_true_propositions():\n",
    "                var_assignments.append(assignment.to_frozen())\n",
    "        elif cur_var == 'bottom':\n",
    "            if 'top' not in assignment.get_true_propositions():\n",
    "                var_assignments.append(assignment.to_frozen())\n",
    "        else:\n",
    "            if cur_var in assignment.get_true_propositions():\n",
    "                var_assignments.append(assignment.to_frozen())\n",
    "    return frozenset(var_assignments)\n",
    "\n",
    "\n",
    "for variable in ['blue', 'green', 'magenta', 'yellow', 'right', 'top', 'left', 'bottom']:\n",
    "    cur_var_assignment = get_complete_var_assignments(variable)\n",
    "    all_assignments.append(cur_var_assignment)\n",
    "    complete_var_assignments[variable] = cur_var_assignment\n",
    "\n",
    "    if variable in ['blue', 'green', 'magenta', 'yellow']:\n",
    "        colors_only[variable] = cur_var_assignment\n",
    "    else:\n",
    "        areas_only[variable] = cur_var_assignment\n",
    "\n",
    "\n",
    "reach_ors = {i: [frozenset.union(*x) for x in itertools.combinations(list(complete_var_assignments.values()), i)\n",
    "                 if frozenset.union(*x) != complete_assignment] for i in range(1, 3)}\n",
    "# all_ors = reach_ors[1] + reach_ors[2]\n",
    "all_ors = reach_ors[1]\n",
    "\n",
    "all_ands = []\n",
    "all_ands_dict = {}\n",
    "\n",
    "# originally (2, 4)\n",
    "for i in range(2, 3):\n",
    "    for key_tup in itertools.combinations(list(complete_var_assignments.keys()), i):\n",
    "        tup = [complete_var_assignments[cur_key] for cur_key in key_tup]\n",
    "        and_set = frozenset.intersection(*tup)\n",
    "\n",
    "        if len(and_set) > 0 and and_set not in all_ands:\n",
    "            all_ands.append(and_set)\n",
    "            all_ands_dict['&'.join(sorted(key_tup))] = and_set\n",
    "\n",
    "# print(len(all_ands))\n",
    "# print(all_ands)\n",
    "\n",
    "# all_pairs = itertools.combinations(list(complete_var_assignments.values()), 2)\n",
    "\n",
    "all_pairs = [(x, y) for x in areas_only.values() for y in colors_only.values()]\n",
    "# reach_x_and_not_y = [x - y for x, y in all_pairs if len(x & y) > 0] + [y - x for x, y in all_pairs if len(x & y) > 0]\n",
    "reach_x_and_not_y = [x - y for x, y in all_pairs if len(x & y) > 0]\n",
    "\n",
    "all_reach = all_ands + reach_x_and_not_y + all_ors\n",
    "\n",
    "# all_reach_difficult = all_ors + all_ands\n",
    "\n",
    "# print(len(all_reach))"
   ]
  },
  {
   "cell_type": "code",
   "execution_count": 22,
   "id": "f8d4e02e-7382-4794-9559-1a498453c409",
   "metadata": {},
   "outputs": [
    {
     "name": "stdout",
     "output_type": "stream",
     "text": [
      "blue & right\n",
      "blue & top\n",
      "blue & ~right\n",
      "blue & ~top\n",
      "green & right\n",
      "green & top\n",
      "green & ~right\n",
      "green & ~top\n",
      "magenta & right\n",
      "magenta & top\n",
      "magenta & ~right\n",
      "magenta & ~top\n",
      "right & yellow\n",
      "top & yellow\n",
      "yellow & ~right\n",
      "yellow & ~top\n",
      "right & top\n",
      "right & ~top\n",
      "top & ~right\n",
      "~(right | top)\n",
      "right & ~blue\n",
      "right & ~green\n",
      "right & ~magenta\n",
      "right & ~yellow\n",
      "top & ~blue\n",
      "top & ~green\n",
      "top & ~magenta\n",
      "top & ~yellow\n",
      "~(blue | right)\n",
      "~(green | right)\n",
      "~(magenta | right)\n",
      "~(right | yellow)\n",
      "~(blue | top)\n",
      "~(green | top)\n",
      "~(magenta | top)\n",
      "~(top | yellow)\n",
      "blue\n",
      "green\n",
      "magenta\n",
      "yellow\n",
      "right\n",
      "top\n",
      "~right\n",
      "~top\n"
     ]
    }
   ],
   "source": [
    "for cur in all_reach:\n",
    "    cur_tup = tuple(sorted([VOCAB[x] for x in cur]))\n",
    "\n",
    "    print(cm.cache[cur_tup])\n",
    "    "
   ]
  },
  {
   "cell_type": "code",
   "execution_count": null,
   "id": "545930cf-65fd-4ef4-9018-98ba7ad976ea",
   "metadata": {},
   "outputs": [],
   "source": []
  }
 ],
 "metadata": {
  "kernelspec": {
   "display_name": "Python 3 (ipykernel)",
   "language": "python",
   "name": "python3"
  },
  "language_info": {
   "codemirror_mode": {
    "name": "ipython",
    "version": 3
   },
   "file_extension": ".py",
   "mimetype": "text/x-python",
   "name": "python",
   "nbconvert_exporter": "python",
   "pygments_lexer": "ipython3",
   "version": "3.10.15"
  }
 },
 "nbformat": 4,
 "nbformat_minor": 5
}
