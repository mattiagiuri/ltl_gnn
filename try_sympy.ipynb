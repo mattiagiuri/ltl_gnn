{
 "cells": [
  {
   "cell_type": "code",
   "execution_count": 2,
   "id": "initial_id",
   "metadata": {
    "collapsed": true,
    "ExecuteTime": {
     "end_time": "2024-04-12T11:52:59.819649648Z",
     "start_time": "2024-04-12T11:52:59.663660690Z"
    }
   },
   "outputs": [],
   "source": [
    "import sympy.logic.boolalg\n",
    "from sympy import sympify\n",
    "from sympy.logic.boolalg import simplify_logic"
   ]
  },
  {
   "cell_type": "code",
   "execution_count": 5,
   "outputs": [
    {
     "data": {
      "text/plain": "~b",
      "text/latex": "$\\displaystyle \\neg b$"
     },
     "execution_count": 5,
     "metadata": {},
     "output_type": "execute_result"
    }
   ],
   "source": [
    "a = sympify('~(a | b)')\n",
    "b = sympify('~a & ~b')\n",
    "str(simplify_logic(sympify('~((a & b) | ~a)'))) \n",
    "simplify_logic(a | b | simplify_logic(sympify('~((a & b) | ~a)')))# can use this to figure out the complement! Alternatively save list of possible assignments in transition"
   ],
   "metadata": {
    "collapsed": false,
    "ExecuteTime": {
     "end_time": "2024-04-12T08:18:36.493906Z",
     "start_time": "2024-04-12T08:18:36.484373Z"
    }
   },
   "id": "9f3e8ea745a56e60"
  },
  {
   "cell_type": "code",
   "outputs": [
    {
     "ename": "NameError",
     "evalue": "name 'sympy' is not defined",
     "output_type": "error",
     "traceback": [
      "\u001B[0;31m---------------------------------------------------------------------------\u001B[0m",
      "\u001B[0;31mNameError\u001B[0m                                 Traceback (most recent call last)",
      "Cell \u001B[0;32mIn[8], line 1\u001B[0m\n\u001B[0;32m----> 1\u001B[0m \u001B[43msympy\u001B[49m\u001B[38;5;241m.\u001B[39mlogic\u001B[38;5;241m.\u001B[39mboolalg\u001B[38;5;241m.\u001B[39mtrue\n",
      "\u001B[0;31mNameError\u001B[0m: name 'sympy' is not defined"
     ]
    }
   ],
   "source": [
    "sympy.logic.boolalg.true"
   ],
   "metadata": {
    "collapsed": false,
    "ExecuteTime": {
     "end_time": "2024-04-12T12:15:36.026342392Z",
     "start_time": "2024-04-12T12:15:35.979772088Z"
    }
   },
   "id": "cbc04d56ff33f3fc",
   "execution_count": 8
  },
  {
   "cell_type": "code",
   "execution_count": 3,
   "outputs": [
    {
     "data": {
      "text/plain": "~a",
      "text/latex": "$\\displaystyle \\neg a$"
     },
     "execution_count": 3,
     "metadata": {},
     "output_type": "execute_result"
    }
   ],
   "source": [
    "f = sympify('~a & ~b | ~a & b')\n",
    "f.simplify()"
   ],
   "metadata": {
    "collapsed": false,
    "ExecuteTime": {
     "end_time": "2024-04-12T11:53:01.887217403Z",
     "start_time": "2024-04-12T11:53:01.875352770Z"
    }
   },
   "id": "7ad623bf9893249c"
  }
 ],
 "metadata": {
  "kernelspec": {
   "display_name": "Python 3",
   "language": "python",
   "name": "python3"
  },
  "language_info": {
   "codemirror_mode": {
    "name": "ipython",
    "version": 2
   },
   "file_extension": ".py",
   "mimetype": "text/x-python",
   "name": "python",
   "nbconvert_exporter": "python",
   "pygments_lexer": "ipython2",
   "version": "2.7.6"
  }
 },
 "nbformat": 4,
 "nbformat_minor": 5
}
