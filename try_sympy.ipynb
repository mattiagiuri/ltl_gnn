{
 "cells": [
  {
   "cell_type": "code",
   "execution_count": 9,
   "id": "initial_id",
   "metadata": {
    "collapsed": true,
    "ExecuteTime": {
     "end_time": "2024-04-12T20:23:19.514505618Z",
     "start_time": "2024-04-12T20:23:19.502765467Z"
    }
   },
   "outputs": [],
   "source": [
    "import sympy.logic.boolalg\n",
    "from sympy import sympify\n",
    "from sympy.logic.boolalg import simplify_logic"
   ]
  },
  {
   "cell_type": "code",
   "execution_count": 19,
   "outputs": [
    {
     "data": {
      "text/plain": "(a & b) | (a & c)",
      "text/latex": "$\\displaystyle \\left(a \\wedge b\\right) \\vee \\left(a \\wedge c\\right)$"
     },
     "execution_count": 19,
     "metadata": {},
     "output_type": "execute_result"
    }
   ],
   "source": [
    "a, b, c = sympy.symbols('a b c')\n",
    "f = a & b | a & c\n",
    "f"
   ],
   "metadata": {
    "collapsed": false,
    "ExecuteTime": {
     "end_time": "2024-04-12T20:26:30.301042901Z",
     "start_time": "2024-04-12T20:26:30.254041017Z"
    }
   },
   "id": "9f3e8ea745a56e60"
  },
  {
   "cell_type": "code",
   "outputs": [
    {
     "data": {
      "text/plain": "a & c & ~b",
      "text/latex": "$\\displaystyle a \\wedge c \\wedge \\neg b$"
     },
     "execution_count": 20,
     "metadata": {},
     "output_type": "execute_result"
    }
   ],
   "source": [
    "imp = a & b\n",
    "n = f & ~imp\n",
    "n.simplify()"
   ],
   "metadata": {
    "collapsed": false,
    "ExecuteTime": {
     "end_time": "2024-04-12T20:26:30.693765778Z",
     "start_time": "2024-04-12T20:26:30.651004789Z"
    }
   },
   "id": "cbc04d56ff33f3fc",
   "execution_count": 20
  },
  {
   "cell_type": "code",
   "execution_count": 3,
   "outputs": [
    {
     "data": {
      "text/plain": "~a",
      "text/latex": "$\\displaystyle \\neg a$"
     },
     "execution_count": 3,
     "metadata": {},
     "output_type": "execute_result"
    }
   ],
   "source": [
    "f = sympify('~a & ~b | ~a & b')\n",
    "f.simplify()"
   ],
   "metadata": {
    "collapsed": false,
    "ExecuteTime": {
     "end_time": "2024-04-12T11:53:01.887217403Z",
     "start_time": "2024-04-12T11:53:01.875352770Z"
    }
   },
   "id": "7ad623bf9893249c"
  }
 ],
 "metadata": {
  "kernelspec": {
   "display_name": "Python 3",
   "language": "python",
   "name": "python3"
  },
  "language_info": {
   "codemirror_mode": {
    "name": "ipython",
    "version": 2
   },
   "file_extension": ".py",
   "mimetype": "text/x-python",
   "name": "python",
   "nbconvert_exporter": "python",
   "pygments_lexer": "ipython2",
   "version": "2.7.6"
  }
 },
 "nbformat": 4,
 "nbformat_minor": 5
}
