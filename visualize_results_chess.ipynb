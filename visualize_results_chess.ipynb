{
 "cells": [
  {
   "cell_type": "code",
   "execution_count": 1,
   "id": "3e79d1f2-a554-4f18-8e27-f31ae55c46e2",
   "metadata": {},
   "outputs": [
    {
     "name": "stdout",
     "output_type": "stream",
     "text": [
      "Guide to read results\n",
      "GCN , Deepsets, Deepsets (prop training) are three different models\n",
      "GCN and Deepsets have been trained on curriculum sampling at most 2 assignments in reach/avoid\n",
      "Deepsets (prop training) has also seen complete pieces assignments in training\n"
     ]
    }
   ],
   "source": [
    "import pandas as pd\n",
    "import matplotlib.pyplot as plt\n",
    "\n",
    "pd.options.display.float_format = \"{:.2f}\".format\n",
    "\n",
    "print(\"Guide to read results\")\n",
    "print(\"GCN , Deepsets, Deepsets (prop training) are three different models\")\n",
    "print(\"GCN and Deepsets have been trained on curriculum sampling at most 2 assignments in reach/avoid\")\n",
    "print(\"Deepsets (prop training) has also seen complete pieces assignments in training\")"
   ]
  },
  {
   "cell_type": "code",
   "execution_count": null,
   "id": "a5993149-31d6-45c3-9b51-14939000cdd1",
   "metadata": {},
   "outputs": [],
   "source": [
    "def read_results(env_name):\n",
    "    parent = \"results_chessworld/\" + env_name + \"/\"\n",
    "    \n",
    "    gcn_name =  parent + env_name + \"_gcn.csv\"\n",
    "    deepsets_name = parent + env_name + \"_deepsets_full.csv\"\n",
    "    deepsets_prop_name = parent + env_name + \"_deepsets_prop.csv\"\n",
    "    \n",
    "    df_gcn = pd.read_csv(gcn_name).drop(columns=[\"Avg Discounted Return\"])\n",
    "    df_dps = pd.read_csv(deepsets_name).drop(columns=[\"Avg Discounted Return\"])\n",
    "    df_prop = pd.read_csv(deepsets_prop_name).drop(columns=[\"Avg Discounted Return\"])\n",
    "\n",
    "    df_gcn.set_index([\"Task Set\", \"Task ID\"], inplace=True)\n",
    "    df_dps.set_index([\"Task Set\", \"Task ID\"], inplace=True)\n",
    "    df_prop.set_index([\"Task Set\", \"Task ID\"], inplace=True)\n",
    "\n",
    "    df_concat = pd.concat([df_gcn, df_dps, df_prop], axis=1, keys=[\"GCN\", \"Deepsets\", \"Deepsets (prop training)\"])\n",
    "\n",
    "    return df_concat\n"
   ]
  },
  {
   "cell_type": "code",
   "execution_count": null,
   "id": "43afeb27-887c-4de2-a2f7-d710699c457d",
   "metadata": {},
   "outputs": [],
   "source": [
    "def generalized_read_results(env_name, files, keys):\n",
    "    parent = \"results_chessworld/\" + env_name + \"/\"\n",
    "    all_dfs = []\n",
    "\n",
    "    for file in files:\n",
    "        cur_name = parent + file + \".csv\"\n",
    "        cur_df = pd.read_csv(cur_name)\n",
    "        cur_df.set_index([\"Task Set\", \"Task ID\"], inplace=True)\n",
    "\n",
    "        if \"Avg Discounted Return\" in cur_df.columns:\n",
    "            cur_df.drop(columns=[\"Avg Discounted Return\"], inplace=True)\n",
    "\n",
    "        all_dfs.append(cur_df)\n",
    "\n",
    "    df_concat = pd.concat(all_dfs, axis=1, keys=keys)\n",
    "\n",
    "    return df_concat"
   ]
  },
  {
   "cell_type": "code",
   "execution_count": null,
   "id": "f5339d6d-007c-4df8-98e1-0955254472a0",
   "metadata": {},
   "outputs": [],
   "source": [
    "def seed_read_results(env_name, files, keys, seeds):\n",
    "    parent = \"results_chessworld/\" + env_name + \"/\"\n",
    "    final_dfs = {}\n",
    "\n",
    "    for seed in seeds:\n",
    "        all_dfs = []\n",
    "        for file in files:\n",
    "            cur_name = parent + str(seed) + \"/\" + file + \".csv\"\n",
    "            cur_df = pd.read_csv(cur_name)\n",
    "            cur_df.set_index([\"Task Set\", \"Task ID\"], inplace=True)\n",
    "    \n",
    "            if \"Avg Discounted Return\" in cur_df.columns:\n",
    "                cur_df.drop(columns=[\"Avg Discounted Return\"], inplace=True)\n",
    "    \n",
    "            all_dfs.append(cur_df)\n",
    "    \n",
    "        df_concat = pd.concat(all_dfs, axis=1, keys=keys)\n",
    "        final_dfs[seed] = df_concat\n",
    "\n",
    "    df_mean = sum(final_dfs.values()) / len(final_dfs)\n",
    "    return final_dfs, df_mean"
   ]
  },
  {
   "cell_type": "code",
   "execution_count": null,
   "id": "cbac6e4f-e318-4234-b802-2357edc0c35e",
   "metadata": {},
   "outputs": [],
   "source": [
    "# ChessWorld-v0 tasks and results\n",
    "\n",
    "tasks_v0 = \"eval_datasets/ChessWorld-v0/tasks.txt\"\n",
    "\n",
    "with open(tasks_v0, 'r') as file:\n",
    "    for line in file:\n",
    "        print(line[:-1])"
   ]
  },
  {
   "cell_type": "code",
   "execution_count": null,
   "id": "8b3a8ae8-aa06-40bb-b84b-32338178f51b",
   "metadata": {},
   "outputs": [],
   "source": [
    "read_results(\"ChessWorld-v0\")"
   ]
  },
  {
   "cell_type": "code",
   "execution_count": null,
   "id": "669c6cbb-4f47-4a12-b235-06d4f0103202",
   "metadata": {},
   "outputs": [],
   "source": [
    "# ChessWorld-v1 tasks and results\n",
    "\n",
    "tasks_v0 = \"eval_datasets/ChessWorld-v1/tasks.txt\"\n",
    "\n",
    "with open(tasks_v0, 'r') as file:\n",
    "    for line in file:\n",
    "        print(line[:-1])"
   ]
  },
  {
   "cell_type": "code",
   "execution_count": null,
   "id": "a1d7969b-19cb-4c32-9fe5-3ffcb1c7812f",
   "metadata": {},
   "outputs": [],
   "source": [
    "read_results(\"ChessWorld-v1\")"
   ]
  },
  {
   "cell_type": "code",
   "execution_count": null,
   "id": "e1aa9dda-66a2-48c5-a316-02cd077064f7",
   "metadata": {},
   "outputs": [],
   "source": [
    "# ChessWorld-v2 tasks and results\n",
    "\n",
    "tasks_v0 = \"eval_datasets/ChessWorld-v2/tasks.txt\"\n",
    "\n",
    "with open(tasks_v0, 'r') as file:\n",
    "    for line in file:\n",
    "        print(line[:-1])"
   ]
  },
  {
   "cell_type": "code",
   "execution_count": null,
   "id": "a26b00f8-d66a-4160-bd67-d92905de96df",
   "metadata": {},
   "outputs": [],
   "source": [
    "read_results(\"ChessWorld-v2\")"
   ]
  },
  {
   "cell_type": "code",
   "execution_count": null,
   "id": "90eb80bc-baf8-4030-a663-67d0387f0510",
   "metadata": {},
   "outputs": [],
   "source": [
    "def make_ablation_graphs(goal, parent=\"chessworld8_ablation/\"):\n",
    "    df = pd.read_csv(parent + goal + \"/results.csv\", index_col=0, header=[0,1])\n",
    "\n",
    "    # successes_mean_df = df.xs(\"successes_mean\", axis=1, level=1)  # Get all 'successes_mean' values\n",
    "\n",
    "    # # Plot each column\n",
    "    # plt.figure(figsize=(8, 5))\n",
    "    # for col in successes_mean_df.columns:\n",
    "    #     plt.plot(successes_mean_df.index, successes_mean_df[col], marker=\"o\", label=col)\n",
    "    \n",
    "    # # Formatting\n",
    "    # plt.xlabel(\"X-axis Label (e.g., Task Number)\")\n",
    "    # plt.ylabel(\"Success Rate\")\n",
    "    # plt.title(\"Success Rates Across Models\")\n",
    "    # plt.legend(title=\"Model\")\n",
    "    # plt.grid(True)\n",
    "    \n",
    "    # # Show plot\n",
    "    # plt.show()\n",
    "\n",
    "\n",
    "    # Extract successes_mean and successes_std\n",
    "    successes_mean_df = df.xs(\"successes_mean\", axis=1, level=1)  # Mean values\n",
    "    successes_std_df = df.xs(\"successes_std\", axis=1, level=1)    # Standard deviation values\n",
    "    \n",
    "    # Plot each model with error bars\n",
    "    plt.figure(figsize=(8, 5))\n",
    "    for col in successes_mean_df.columns:\n",
    "        plt.errorbar(\n",
    "            successes_mean_df.index, \n",
    "            successes_mean_df[col], \n",
    "            yerr=successes_std_df[col],  # Add standard deviation as error bars\n",
    "            fmt=\"o-\",  # Markers with lines\n",
    "            capsize=4,  # Small caps on error bars\n",
    "            label=col\n",
    "        )\n",
    "    \n",
    "    # Formatting\n",
    "    plt.xlabel(\"Cardinality of avoid set\")\n",
    "    plt.ylabel(\"Success Rate\")\n",
    "    plt.title(goal)\n",
    "    plt.legend(title=\"Model\")\n",
    "    plt.grid(True)\n",
    "    \n",
    "    # Show plot\n",
    "    plt.show()\n",
    "\n",
    "    "
   ]
  },
  {
   "cell_type": "code",
   "execution_count": null,
   "id": "cb5bedde-5808-4317-a609-e1c7d871559b",
   "metadata": {},
   "outputs": [],
   "source": [
    "make_ablation_graphs(\"(pawn)\")"
   ]
  },
  {
   "cell_type": "code",
   "execution_count": null,
   "id": "6327202f-f8b6-4ea0-acbc-d255d6f48ffb",
   "metadata": {},
   "outputs": [],
   "source": [
    "make_ablation_graphs(\"(knight)\")"
   ]
  },
  {
   "cell_type": "code",
   "execution_count": null,
   "id": "aa61e632-d3e3-4306-a7cc-4c1a86f0f6ea",
   "metadata": {},
   "outputs": [],
   "source": [
    "make_ablation_graphs(\"(knight & rook)\")"
   ]
  },
  {
   "cell_type": "code",
   "execution_count": null,
   "id": "bab5b0ee-e2ab-46b6-aadb-f715983a30b7",
   "metadata": {},
   "outputs": [],
   "source": [
    "make_ablation_graphs(\"(bishop & rook)\")"
   ]
  },
  {
   "cell_type": "code",
   "execution_count": null,
   "id": "7b27b765-53f8-49da-b136-8cebd25db46d",
   "metadata": {},
   "outputs": [],
   "source": [
    "make_ablation_graphs(\"(queen & bishop)\")"
   ]
  },
  {
   "cell_type": "code",
   "execution_count": null,
   "id": "cde6f214-ed25-464d-b4d3-8efa77f7833e",
   "metadata": {},
   "outputs": [],
   "source": [
    "print(\"Guide to read new results\")\n",
    "print(\"GCN , Deepsets are the models, trained on different curriculums\")\n",
    "print(\"The number in brackets indicates threshold for completing training\")\n",
    "print(\"Leaving model to train usually ends up in overfitting the reach stay task\")"
   ]
  },
  {
   "cell_type": "code",
   "execution_count": null,
   "id": "4c1a0dbe-5cca-48a0-bd2e-5390f4fae927",
   "metadata": {},
   "outputs": [],
   "source": [
    "# ChessWorld-v1 new finite tasks and results\n",
    "\n",
    "tasks_v0 = \"eval_datasets/ChessWorld-v1/finite_tasks.txt\"\n",
    "\n",
    "with open(tasks_v0, 'r') as file:\n",
    "    for line in file:\n",
    "        print(line[:-1])"
   ]
  },
  {
   "cell_type": "code",
   "execution_count": null,
   "id": "ed926009-24c3-424a-8a9b-9fce872d52f6",
   "metadata": {},
   "outputs": [],
   "source": [
    "keys_new = ['Deepsets (0.85)', 'Deepsets (0.9)', 'Deepsets (15M)', 'GCN (0.85)', 'GCN (0.9)', 'GCN (15M)', 'GCN (defrosted 25M)']"
   ]
  },
  {
   "cell_type": "code",
   "execution_count": null,
   "id": "ce9ff2ba-fcaa-415c-9bb2-dbc1b933543e",
   "metadata": {},
   "outputs": [],
   "source": [
    "files_finite = ['ChessWorld-v1_deepsets_stay_update_4',\n",
    "                'ChessWorld-v1_deepsets_stay_update_4_fine',\n",
    "                'ChessWorld-v1_deepsets_stay_update_4_finest',\n",
    "                'ChessWorld-v1_gcn_formula_big_skip_6',\n",
    "                'ChessWorld-v1_gcn_formula_big_skip_6_fine',\n",
    "                'ChessWorld-v1_gcn_formula_big_skip_6_finer',\n",
    "                'ChessWorld-v1_gcn_formula_big_skip_6_finest'\n",
    "               ]\n",
    "\n",
    "generalized_read_results('ChessWorld-v1', files_finite, keys_new)"
   ]
  },
  {
   "cell_type": "code",
   "execution_count": null,
   "id": "6d22df5d-b76e-498a-bc42-1d281d2b593a",
   "metadata": {},
   "outputs": [],
   "source": [
    "# ChessWorld-v1 infinite tasks and results\n",
    "\n",
    "tasks_v0 = \"eval_datasets/ChessWorld-v1/infinite_tasks.txt\"\n",
    "\n",
    "with open(tasks_v0, 'r') as file:\n",
    "    for line in file:\n",
    "        print(line[:-1])"
   ]
  },
  {
   "cell_type": "code",
   "execution_count": null,
   "id": "fb67b826-bbea-4927-900a-8bf0c1c57a84",
   "metadata": {},
   "outputs": [],
   "source": [
    "files_infinite = ['ChessWorld-v1_deepsets_stay_update_4_inf',\n",
    "                  'ChessWorld-v1_deepsets_stay_update_4_fine_inf',\n",
    "                  'ChessWorld-v1_deepsets_stay_update_4_finest_inf',\n",
    "                  'ChessWorld-v1_gcn_formula_big_skip_6_inf',\n",
    "                  'ChessWorld-v1_gcn_formula_big_skip_6_fine_inf',\n",
    "                  'ChessWorld-v1_gcn_formula_big_skip_6_finer_inf',\n",
    "                  'ChessWorld-v1_gcn_formula_big_skip_6_finest_inf'\n",
    "                 ]\n",
    "\n",
    "generalized_read_results('ChessWorld-v1', files_infinite, keys_new)"
   ]
  },
  {
   "cell_type": "code",
   "execution_count": null,
   "id": "489c048d-a01c-4aeb-9265-9da01a3c597d",
   "metadata": {},
   "outputs": [],
   "source": [
    "def make_ablation_graphs_smaller(goal, parent=\"chessworld8_ablation/\", alpha=10):\n",
    "    df = pd.read_csv(parent + goal + \"/results.csv\", index_col=0, header=[0,1])\n",
    "\n",
    "    # successes_mean_df = df.xs(\"successes_mean\", axis=1, level=1)  # Get all 'successes_mean' values\n",
    "\n",
    "    # # Plot each column\n",
    "    # plt.figure(figsize=(8, 5))\n",
    "    # for col in successes_mean_df.columns:\n",
    "    #     plt.plot(successes_mean_df.index, successes_mean_df[col], marker=\"o\", label=col)\n",
    "    \n",
    "    # # Formatting\n",
    "    # plt.xlabel(\"X-axis Label (e.g., Task Number)\")\n",
    "    # plt.ylabel(\"Success Rate\")\n",
    "    # plt.title(\"Success Rates Across Models\")\n",
    "    # plt.legend(title=\"Model\")\n",
    "    # plt.grid(True)\n",
    "    \n",
    "    # # Show plot\n",
    "    # plt.show()\n",
    "\n",
    "\n",
    "    # Extract successes_mean and successes_std\n",
    "    successes_mean_df = df.xs(\"successes_mean\", axis=1, level=1)  # Mean values\n",
    "    successes_std_df = df.xs(\"successes_std\", axis=1, level=1)    # Standard deviation values\n",
    "    \n",
    "    # Plot each model with error bars\n",
    "    plt.figure(figsize=(8, 5))\n",
    "    for col in successes_mean_df.columns:\n",
    "        plt.errorbar(\n",
    "            successes_mean_df.index, \n",
    "            successes_mean_df[col], \n",
    "            yerr=successes_std_df[col] / alpha,  # Add standard deviation as error bars\n",
    "            fmt=\"o-\",  # Markers with lines\n",
    "            capsize=4,  # Small caps on error bars\n",
    "            label=col\n",
    "        )\n",
    "    \n",
    "    # Formatting\n",
    "    plt.xlabel(\"Cardinality of avoid set\")\n",
    "    plt.ylabel(\"Success Rate\")\n",
    "    plt.title(goal)\n",
    "    plt.legend(title=\"Model\")\n",
    "    plt.grid(True)\n",
    "    \n",
    "    # Show plot\n",
    "    plt.show()\n",
    "\n",
    "    "
   ]
  },
  {
   "cell_type": "code",
   "execution_count": null,
   "id": "f3c5ff0f-e312-400d-bf1a-fd5468f87336",
   "metadata": {},
   "outputs": [],
   "source": [
    "make_ablation_graphs_smaller(goal=\"stay_models/1\")"
   ]
  },
  {
   "cell_type": "code",
   "execution_count": null,
   "id": "f240b9d3-3a96-4596-b95d-2e2eb7a0cbb0",
   "metadata": {},
   "outputs": [],
   "source": [
    "files_finite_seeds = [\n",
    "                'ChessWorld-v1_deepsets_stay_update_4_finest',\n",
    "                'ChessWorld-v1_gcn_formula_big_skip_6_finer',\n",
    "                'ChessWorld-v1_transformer_stay',\n",
    "                'ChessWorld-v1_deepsets_trial_4',\n",
    "               ]\n",
    "\n",
    "keys_seeds = [\"Deepsets (15M)\", \"GCN (15M)\", \"Transformer (15M)\", \"Deepsets (large avoid)\"]\n",
    "\n",
    "dfs_ra, df_ra_mean = seed_read_results(\"ChessWorld-v1\", files_finite_seeds, keys_seeds, list(range(1, 6)))\n",
    "\n",
    "df_ra_mean"
   ]
  },
  {
   "cell_type": "code",
   "execution_count": null,
   "id": "8ce1a08a-7bcf-4945-9eae-58819e9f3dbc",
   "metadata": {},
   "outputs": [],
   "source": [
    "df_ra_mean.groupby(\"Task Set\").mean()"
   ]
  },
  {
   "cell_type": "code",
   "execution_count": null,
   "id": "a9717947-f602-4e3e-9dbc-44e69e8badaa",
   "metadata": {},
   "outputs": [],
   "source": [
    "dfs_ra[1].mean()/ 29\n"
   ]
  },
  {
   "cell_type": "code",
   "execution_count": null,
   "id": "0b5e5f8b-c102-4754-8f47-117cd48e0d56",
   "metadata": {},
   "outputs": [],
   "source": [
    "files_infinite_seeds = [\n",
    "                'ChessWorld-v1_deepsets_stay_update_4_finest_inf',\n",
    "                'ChessWorld-v1_gcn_formula_big_skip_6_finer_inf',\n",
    "                'ChessWorld-v1_transformer_stay_inf',\n",
    "                'ChessWorld-v1_deepsets_trial_4_inf',\n",
    "               ]\n",
    "\n",
    "keys_seeds = [\"Deepsets (15M)\", \"GCN (15M)\", 'Transformer (15M)', \"Deepsets (large avoid)\"]\n",
    "\n",
    "dfs_rs, df_rs_mean = seed_read_results(\"ChessWorld-v1\", files_infinite_seeds, keys_seeds, list(range(1, 6)))\n",
    "\n",
    "df_rs_mean"
   ]
  },
  {
   "cell_type": "code",
   "execution_count": null,
   "id": "c5ab38be-81ba-49f0-ae19-64de76a0b845",
   "metadata": {},
   "outputs": [],
   "source": [
    "df_rs_mean.groupby(\"Task Set\").mean()"
   ]
  },
  {
   "cell_type": "code",
   "execution_count": 37,
   "id": "29d47420-8681-4d01-b640-3be4e0bb19dc",
   "metadata": {},
   "outputs": [],
   "source": [
    "def make_latest_ablation_graphs(parent_dir=\"chessworld8_ablation/stay_update/\"):\n",
    "    all_dfs = [pd.read_csv(parent_dir + str(seed) + \"/results.csv\", header=[0,1], index_col=0) for seed in range(1, 6)]\n",
    "\n",
    "    mean_df = pd.concat(all_dfs).groupby(level=0).mean()\n",
    "    std_df = pd.concat(all_dfs).groupby(level=0).std()\n",
    "\n",
    "    # print(df_mean)\n",
    "    \n",
    "    labels = [\"Deepsets (large avoid)\", \"Deepsets (15M)\", \"GCN (15M)\"]\n",
    "    colors = [\"purple\", \"red\", \"blue\"]\n",
    "    i = 0\n",
    "    \n",
    "    for col in mean_df.columns.levels[0]:\n",
    "        df_mean = mean_df[col]\n",
    "        df_std = std_df[col]\n",
    "        \n",
    "        plt.plot(df_mean.index, df_mean[\"successes_mean\"], label=col, color=colors[i])  # Mean line\n",
    "        plt.scatter(df_mean.index, df_mean[\"successes_mean\"], color=colors[i])  # Mean line\n",
    "\n",
    "        plt.fill_between(df_mean.index,\n",
    "                         df_mean[\"successes_mean\"] - df_std[\"successes_mean\"],\n",
    "                         df_mean[\"successes_mean\"] + df_std[\"successes_mean\"],\n",
    "                         color=colors[i], alpha=0.2)  # Confidence interval\n",
    "\n",
    "        i += 1\n",
    "\n",
    "    plt.xlabel(\"Number of Pieces to Avoid\")\n",
    "    plt.ylabel(\"Avg successes\")\n",
    "    plt.title(\"Successes as number of pieces to avoid increases\")\n",
    "    plt.legend(title=\"Models\")\n",
    "    plt.show()\n",
    "    \n",
    "    plt.show()\n",
    "    "
   ]
  },
  {
   "cell_type": "code",
   "execution_count": 38,
   "id": "19676509-22cb-4899-8ab5-e59dfc66cfa6",
   "metadata": {},
   "outputs": [
    {
     "data": {
      "image/png": "[encoded data removed]",
      "text/plain": [
       "<Figure size 640x480 with 1 Axes>"
      ]
     },
     "metadata": {},
     "output_type": "display_data"
    }
   ],
   "source": [
    "make_latest_ablation_graphs()"
   ]
  },
  {
   "cell_type": "code",
   "execution_count": null,
   "id": "eb2870a5-1654-42fe-9af0-e3e2dab15d9b",
   "metadata": {},
   "outputs": [],
   "source": []
  }
 ],
 "metadata": {
  "kernelspec": {
   "display_name": "Python 3 (ipykernel)",
   "language": "python",
   "name": "python3"
  },
  "language_info": {
   "codemirror_mode": {
    "name": "ipython",
    "version": 3
   },
   "file_extension": ".py",
   "mimetype": "text/x-python",
   "name": "python",
   "nbconvert_exporter": "python",
   "pygments_lexer": "ipython3",
   "version": "3.10.15"
  }
 },
 "nbformat": 4,
 "nbformat_minor": 5
}
