{
 "cells": [
  {
   "cell_type": "code",
   "execution_count": 1,
   "id": "initial_id",
   "metadata": {
    "collapsed": true,
    "ExecuteTime": {
     "end_time": "2024-05-30T08:37:26.688206217Z",
     "start_time": "2024-05-30T08:37:26.028537442Z"
    }
   },
   "outputs": [],
   "source": [
    "import torch.nn as nn\n",
    "import torch"
   ]
  },
  {
   "cell_type": "code",
   "execution_count": 32,
   "outputs": [],
   "source": [
    "seq = [[1, 2], [2], [3, 4, 1], [1, 3]]\n",
    "lens = [len(s) for s in seq]"
   ],
   "metadata": {
    "collapsed": false,
    "ExecuteTime": {
     "end_time": "2024-05-14T16:24:03.747603389Z",
     "start_time": "2024-05-14T16:24:03.706484550Z"
    }
   },
   "id": "d2f23fd3c08ab85d"
  },
  {
   "cell_type": "code",
   "execution_count": 31,
   "outputs": [
    {
     "data": {
      "text/plain": "tensor([[1, 2, 0],\n        [2, 0, 0],\n        [3, 4, 1],\n        [1, 3, 0]])"
     },
     "execution_count": 31,
     "metadata": {},
     "output_type": "execute_result"
    }
   ],
   "source": [
    "padded_seq_batch = nn.utils.rnn.pad_sequence([torch.tensor(s) for s in seq], batch_first=True)\n",
    "padded_seq_batch"
   ],
   "metadata": {
    "collapsed": false,
    "ExecuteTime": {
     "end_time": "2024-05-14T16:23:53.605875800Z",
     "start_time": "2024-05-14T16:23:53.599013941Z"
    }
   },
   "id": "c452120839af0a55"
  },
  {
   "cell_type": "code",
   "execution_count": 39,
   "outputs": [
    {
     "data": {
      "text/plain": "torch.Size([4, 3, 8])"
     },
     "execution_count": 39,
     "metadata": {},
     "output_type": "execute_result"
    }
   ],
   "source": [
    "embedded = emb(padded_seq_batch)\n",
    "embedded.shape"
   ],
   "metadata": {
    "collapsed": false,
    "ExecuteTime": {
     "end_time": "2024-05-14T16:27:09.725568366Z",
     "start_time": "2024-05-14T16:27:09.718796188Z"
    }
   },
   "id": "aa7fa0f37d62d65c"
  },
  {
   "cell_type": "code",
   "execution_count": 41,
   "outputs": [
    {
     "data": {
      "text/plain": "PackedSequence(data=tensor([[-1.4933,  1.2008, -0.6831, -0.4571,  1.2410, -1.5680, -0.5021,  0.9297],\n        [-0.7013, -0.5424,  0.6621, -0.0748, -1.3025,  0.6710,  1.0596, -1.4225],\n        [-0.7013, -0.5424,  0.6621, -0.0748, -1.3025,  0.6710,  1.0596, -1.4225],\n        [ 0.5704,  0.9038,  2.5139, -0.0458, -0.6736, -1.5552,  0.7068,  0.5570],\n        [-0.4185, -0.0752,  0.0293, -0.1590,  1.0031, -0.1225,  1.2051,  1.7690],\n        [ 0.5704,  0.9038,  2.5139, -0.0458, -0.6736, -1.5552,  0.7068,  0.5570],\n        [-1.4933,  1.2008, -0.6831, -0.4571,  1.2410, -1.5680, -0.5021,  0.9297],\n        [-0.7013, -0.5424,  0.6621, -0.0748, -1.3025,  0.6710,  1.0596, -1.4225]],\n       grad_fn=<PackPaddedSequenceBackward0>), batch_sizes=tensor([4, 3, 1]), sorted_indices=tensor([2, 0, 3, 1]), unsorted_indices=tensor([1, 3, 0, 2]))"
     },
     "execution_count": 41,
     "metadata": {},
     "output_type": "execute_result"
    }
   ],
   "source": [
    "packed_seq_batch = nn.utils.rnn.pack_padded_sequence(embedded, lens, batch_first=True, enforce_sorted=False)\n",
    "packed_seq_batch"
   ],
   "metadata": {
    "collapsed": false,
    "ExecuteTime": {
     "end_time": "2024-05-14T16:27:26.341782057Z",
     "start_time": "2024-05-14T16:27:26.332505372Z"
    }
   },
   "id": "94c66ca4c50d038d"
  },
  {
   "cell_type": "code",
   "execution_count": 42,
   "outputs": [
    {
     "data": {
      "text/plain": "tensor([[ 0.0224,  0.5997,  0.2754,  0.4620],\n        [ 0.0461,  0.4078,  0.3048,  0.5644],\n        [ 0.4214,  0.5319, -0.5083,  0.0796],\n        [ 0.1758,  0.1568, -0.6871,  0.0722]], grad_fn=<SqueezeBackward0>)"
     },
     "execution_count": 42,
     "metadata": {},
     "output_type": "execute_result"
    }
   ],
   "source": [
    "_, h = rnn(packed_seq_batch.float())\n",
    "h.squeeze()"
   ],
   "metadata": {
    "collapsed": false,
    "ExecuteTime": {
     "end_time": "2024-05-14T16:27:45.827487975Z",
     "start_time": "2024-05-14T16:27:45.820441131Z"
    }
   },
   "id": "aa99c85a22052a39"
  }
 ],
 "metadata": {
  "kernelspec": {
   "display_name": "Python 3",
   "language": "python",
   "name": "python3"
  },
  "language_info": {
   "codemirror_mode": {
    "name": "ipython",
    "version": 2
   },
   "file_extension": ".py",
   "mimetype": "text/x-python",
   "name": "python",
   "nbconvert_exporter": "python",
   "pygments_lexer": "ipython2",
   "version": "2.7.6"
  }
 },
 "nbformat": 4,
 "nbformat_minor": 5
}
