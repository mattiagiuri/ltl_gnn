{
 "cells": [
  {
   "cell_type": "code",
   "execution_count": 11,
   "id": "68ecd3be-5139-4e47-bb35-e4b7e3f036ce",
   "metadata": {},
   "outputs": [],
   "source": [
    "import pandas as pd\n",
    "import os\n"
   ]
  },
  {
   "cell_type": "code",
   "execution_count": 12,
   "id": "ca616116-e7c5-4e7b-bb63-b755fdf74124",
   "metadata": {},
   "outputs": [],
   "source": [
    "def seed_read_results(env_name, files, keys, seeds):\n",
    "    parent = \"results_flatworld/\" + env_name + \"/\"\n",
    "    final_dfs = {}\n",
    "\n",
    "    for seed in seeds:\n",
    "        all_dfs = []\n",
    "        for file in files:\n",
    "            cur_name = parent + str(seed) + \"/\" + file + \".csv\"\n",
    "            cur_df = pd.read_csv(cur_name)\n",
    "            cur_df.set_index([\"Task Set\", \"Task ID\"], inplace=True)\n",
    "            \n",
    "            if \"Successes\" in cur_df.columns:\n",
    "                cur_df[\"Successes\"] /= 50\n",
    "    \n",
    "            if \"Avg Discounted Return\" in cur_df.columns:\n",
    "                cur_df.drop(columns=[\"Avg Discounted Return\"], inplace=True)\n",
    "    \n",
    "            all_dfs.append(cur_df)\n",
    "    \n",
    "        df_concat = pd.concat(all_dfs, axis=1, keys=keys)\n",
    "        final_dfs[seed] = df_concat\n",
    "\n",
    "    df_mean = pd.concat(final_dfs.values()).groupby('Task ID').mean()\n",
    "\n",
    "    # df_mean = sum(final_dfs.values()) / len(final_dfs)\n",
    "    return final_dfs, df_mean"
   ]
  },
  {
   "cell_type": "code",
   "execution_count": 13,
   "id": "c73c4a7e-95c3-4bf4-a2e3-adb9bb720ce8",
   "metadata": {},
   "outputs": [
    {
     "name": "stdout",
     "output_type": "stream",
     "text": [
      "Reach Avoid General\n",
      "RA_1 (F ((red & magenta) & F ((blue & green) & F yellow)))\n",
      "RA_2 (F (orange & (!red U magenta)))\n",
      "RA_3 ((!red U (green & blue & aqua)) & F (orange & (F (red  &magenta))))\n",
      "RA_4 (((!yellow & !orange) U (green & blue)) & (!green U magenta))\n",
      "RA_5 ((blue => F magenta) U (yellow | ((green & blue) & F orange))\n"
     ]
    }
   ],
   "source": [
    "with open('eval_datasets/FlatWorld-v0/finite_tasks.txt', 'r') as file:\n",
    "    for line in file:\n",
    "        print(line[:-1])"
   ]
  },
  {
   "cell_type": "code",
   "execution_count": 14,
   "id": "bc95fe91-e3ca-45e5-9aea-4bedd8052b1d",
   "metadata": {},
   "outputs": [
    {
     "data": {
      "text/html": [
       "<div>\n",
       "<style scoped>\n",
       "    .dataframe tbody tr th:only-of-type {\n",
       "        vertical-align: middle;\n",
       "    }\n",
       "\n",
       "    .dataframe tbody tr th {\n",
       "        vertical-align: top;\n",
       "    }\n",
       "\n",
       "    .dataframe thead tr th {\n",
       "        text-align: left;\n",
       "    }\n",
       "\n",
       "    .dataframe thead tr:last-of-type th {\n",
       "        text-align: right;\n",
       "    }\n",
       "</style>\n",
       "<table border=\"1\" class=\"dataframe\">\n",
       "  <thead>\n",
       "    <tr>\n",
       "      <th></th>\n",
       "      <th colspan=\"2\" halign=\"left\">Deepsets</th>\n",
       "      <th colspan=\"2\" halign=\"left\">GCN (no pre)</th>\n",
       "    </tr>\n",
       "    <tr>\n",
       "      <th></th>\n",
       "      <th>Successes</th>\n",
       "      <th>Avg Steps</th>\n",
       "      <th>Successes</th>\n",
       "      <th>Avg Steps</th>\n",
       "    </tr>\n",
       "    <tr>\n",
       "      <th>Task ID</th>\n",
       "      <th></th>\n",
       "      <th></th>\n",
       "      <th></th>\n",
       "      <th></th>\n",
       "    </tr>\n",
       "  </thead>\n",
       "  <tbody>\n",
       "    <tr>\n",
       "      <th>RA_1</th>\n",
       "      <td>0.932</td>\n",
       "      <td>70.746061</td>\n",
       "      <td>1.000</td>\n",
       "      <td>69.728000</td>\n",
       "    </tr>\n",
       "    <tr>\n",
       "      <th>RA_2</th>\n",
       "      <td>0.640</td>\n",
       "      <td>47.114959</td>\n",
       "      <td>0.732</td>\n",
       "      <td>43.420523</td>\n",
       "    </tr>\n",
       "    <tr>\n",
       "      <th>RA_3</th>\n",
       "      <td>0.928</td>\n",
       "      <td>62.308627</td>\n",
       "      <td>0.940</td>\n",
       "      <td>62.779130</td>\n",
       "    </tr>\n",
       "    <tr>\n",
       "      <th>RA_4</th>\n",
       "      <td>0.828</td>\n",
       "      <td>38.668591</td>\n",
       "      <td>0.880</td>\n",
       "      <td>38.566432</td>\n",
       "    </tr>\n",
       "    <tr>\n",
       "      <th>RA_5</th>\n",
       "      <td>0.940</td>\n",
       "      <td>32.445613</td>\n",
       "      <td>0.944</td>\n",
       "      <td>28.658889</td>\n",
       "    </tr>\n",
       "  </tbody>\n",
       "</table>\n",
       "</div>"
      ],
      "text/plain": [
       "         Deepsets            GCN (no pre)           \n",
       "        Successes  Avg Steps    Successes  Avg Steps\n",
       "Task ID                                             \n",
       "RA_1        0.932  70.746061        1.000  69.728000\n",
       "RA_2        0.640  47.114959        0.732  43.420523\n",
       "RA_3        0.928  62.308627        0.940  62.779130\n",
       "RA_4        0.828  38.668591        0.880  38.566432\n",
       "RA_5        0.940  32.445613        0.944  28.658889"
      ]
     },
     "execution_count": 14,
     "metadata": {},
     "output_type": "execute_result"
    }
   ],
   "source": [
    "env_name = 'FlatWorld-v0'\n",
    "\n",
    "files = [env_name + '_deepsets_stay', env_name + '_gcn_update_2']\n",
    "keys = ['Deepsets', 'GCN (no pre)']\n",
    "seeds = range(1, 6)\n",
    "\n",
    "dfs, dfs_mean = seed_read_results(env_name, files, keys, seeds)\n",
    "\n",
    "dfs_mean"
   ]
  },
  {
   "cell_type": "code",
   "execution_count": 15,
   "id": "418daeb5-e6ca-4cac-9068-9bfd16f46fd4",
   "metadata": {},
   "outputs": [
    {
     "name": "stdout",
     "output_type": "stream",
     "text": [
      "Reach Avoid Inifnite\n",
      "RAI_1 ((G (F (blue & green))) & (G (F (red & magenta))))\n",
      "RAI_2 ((G (F (aqua & blue))) & (G (F red)) & (G (F yellow)) & (G (!green)))\n",
      "RAI_3 (F (G blue))\n",
      "RAI_4 ((F (G blue)) & (F yellow & (F green)))\n",
      "RAI_5 ((F (G magenta)) & (G (!yellow)))\n",
      "RAI_6 (G ((green | yellow) => (F blue)) & (F (G (green | magenta)))\n"
     ]
    }
   ],
   "source": [
    "with open('eval_datasets/FlatWorld-v0/infinite_tasks.txt', 'r') as file:\n",
    "    for line in file:\n",
    "        print(line[:-1])"
   ]
  },
  {
   "cell_type": "code",
   "execution_count": 16,
   "id": "06e5bfa5-6569-4971-bc82-eb7745664bcb",
   "metadata": {},
   "outputs": [
    {
     "data": {
      "text/html": [
       "<div>\n",
       "<style scoped>\n",
       "    .dataframe tbody tr th:only-of-type {\n",
       "        vertical-align: middle;\n",
       "    }\n",
       "\n",
       "    .dataframe tbody tr th {\n",
       "        vertical-align: top;\n",
       "    }\n",
       "\n",
       "    .dataframe thead tr th {\n",
       "        text-align: left;\n",
       "    }\n",
       "\n",
       "    .dataframe thead tr:last-of-type th {\n",
       "        text-align: right;\n",
       "    }\n",
       "</style>\n",
       "<table border=\"1\" class=\"dataframe\">\n",
       "  <thead>\n",
       "    <tr>\n",
       "      <th></th>\n",
       "      <th>Deepsets</th>\n",
       "      <th>GCN (no pre)</th>\n",
       "    </tr>\n",
       "    <tr>\n",
       "      <th></th>\n",
       "      <th>Accepting visits</th>\n",
       "      <th>Accepting visits</th>\n",
       "    </tr>\n",
       "    <tr>\n",
       "      <th>Task ID</th>\n",
       "      <th></th>\n",
       "      <th></th>\n",
       "    </tr>\n",
       "  </thead>\n",
       "  <tbody>\n",
       "    <tr>\n",
       "      <th>RAI_1</th>\n",
       "      <td>12.192</td>\n",
       "      <td>12.164</td>\n",
       "    </tr>\n",
       "    <tr>\n",
       "      <th>RAI_2</th>\n",
       "      <td>3.212</td>\n",
       "      <td>2.608</td>\n",
       "    </tr>\n",
       "    <tr>\n",
       "      <th>RAI_3</th>\n",
       "      <td>483.872</td>\n",
       "      <td>480.020</td>\n",
       "    </tr>\n",
       "    <tr>\n",
       "      <th>RAI_4</th>\n",
       "      <td>441.268</td>\n",
       "      <td>441.080</td>\n",
       "    </tr>\n",
       "    <tr>\n",
       "      <th>RAI_5</th>\n",
       "      <td>408.948</td>\n",
       "      <td>441.500</td>\n",
       "    </tr>\n",
       "    <tr>\n",
       "      <th>RAI_6</th>\n",
       "      <td>31.772</td>\n",
       "      <td>98.824</td>\n",
       "    </tr>\n",
       "  </tbody>\n",
       "</table>\n",
       "</div>"
      ],
      "text/plain": [
       "                Deepsets     GCN (no pre)\n",
       "        Accepting visits Accepting visits\n",
       "Task ID                                  \n",
       "RAI_1             12.192           12.164\n",
       "RAI_2              3.212            2.608\n",
       "RAI_3            483.872          480.020\n",
       "RAI_4            441.268          441.080\n",
       "RAI_5            408.948          441.500\n",
       "RAI_6             31.772           98.824"
      ]
     },
     "execution_count": 16,
     "metadata": {},
     "output_type": "execute_result"
    }
   ],
   "source": [
    "files_inf = [env_name + '_deepsets_stay_inf', env_name + '_gcn_update_2_inf']\n",
    "\n",
    "dfs_inf, dfs_mean_inf = seed_read_results(env_name, files_inf, keys, seeds)\n",
    "\n",
    "dfs_mean_inf\n"
   ]
  },
  {
   "cell_type": "code",
   "execution_count": null,
   "id": "47e7fec1-b3d0-4b85-b26f-0681cbf43a8a",
   "metadata": {},
   "outputs": [],
   "source": []
  }
 ],
 "metadata": {
  "kernelspec": {
   "display_name": "Python 3 (ipykernel)",
   "language": "python",
   "name": "python3"
  },
  "language_info": {
   "codemirror_mode": {
    "name": "ipython",
    "version": 3
   },
   "file_extension": ".py",
   "mimetype": "text/x-python",
   "name": "python",
   "nbconvert_exporter": "python",
   "pygments_lexer": "ipython3",
   "version": "3.10.15"
  }
 },
 "nbformat": 4,
 "nbformat_minor": 5
}
