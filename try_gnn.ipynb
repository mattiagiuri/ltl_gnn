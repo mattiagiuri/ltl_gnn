{
 "cells": [
  {
   "metadata": {
    "ExecuteTime": {
     "end_time": "2024-07-05T10:49:38.531069Z",
     "start_time": "2024-07-05T10:49:37.580291Z"
    }
   },
   "cell_type": "code",
   "source": [
    "import torch\n",
    "from torch_geometric.data import Data\n",
    "from torch_geometric.nn import GCNConv"
   ],
   "id": "ddf4c22c2493dbd0",
   "outputs": [],
   "execution_count": 1
  },
  {
   "metadata": {
    "ExecuteTime": {
     "end_time": "2024-07-05T10:49:39.610238Z",
     "start_time": "2024-07-05T10:49:39.607017Z"
    }
   },
   "cell_type": "code",
   "source": "x = torch.tensor([[1, 0]], dtype=torch.float)",
   "id": "6d4503126b621599",
   "outputs": [],
   "execution_count": 2
  },
  {
   "metadata": {
    "ExecuteTime": {
     "end_time": "2024-07-05T10:49:51.077887Z",
     "start_time": "2024-07-05T10:49:51.074372Z"
    }
   },
   "cell_type": "code",
   "source": "x",
   "id": "cca6a2268648d261",
   "outputs": [
    {
     "data": {
      "text/plain": [
       "tensor([[1., 0.]])"
      ]
     },
     "execution_count": 5,
     "metadata": {},
     "output_type": "execute_result"
    }
   ],
   "execution_count": 5
  },
  {
   "cell_type": "code",
   "source": [
    "edge_index = torch.tensor([[]], dtype=torch.long).reshape(2, 0)\n",
    "data = Data(x, edge_index)"
   ],
   "metadata": {
    "collapsed": false,
    "ExecuteTime": {
     "end_time": "2024-07-05T10:50:43.214350Z",
     "start_time": "2024-07-05T10:50:43.209263Z"
    }
   },
   "id": "2d47613ffbf555e7",
   "outputs": [],
   "execution_count": 14
  },
  {
   "cell_type": "code",
   "source": [
    "conv = GCNConv(2, 2, add_self_loops=False)\n",
    "conv(data.x, data.edge_index)"
   ],
   "metadata": {
    "collapsed": false,
    "ExecuteTime": {
     "end_time": "2024-07-05T10:50:43.378551Z",
     "start_time": "2024-07-05T10:50:43.363950Z"
    }
   },
   "id": "f07de076a6434060",
   "outputs": [
    {
     "data": {
      "text/plain": [
       "tensor([[0., 0.]], grad_fn=<AddBackward0>)"
      ]
     },
     "execution_count": 15,
     "metadata": {},
     "output_type": "execute_result"
    }
   ],
   "execution_count": 15
  },
  {
   "metadata": {
    "ExecuteTime": {
     "end_time": "2024-07-05T10:47:35.915040Z",
     "start_time": "2024-07-05T10:47:35.894535Z"
    }
   },
   "cell_type": "code",
   "source": "x",
   "id": "221e73a6020ac1b",
   "outputs": [
    {
     "ename": "NameError",
     "evalue": "name 'x' is not defined",
     "output_type": "error",
     "traceback": [
      "\u001B[0;31m---------------------------------------------------------------------------\u001B[0m",
      "\u001B[0;31mNameError\u001B[0m                                 Traceback (most recent call last)",
      "Cell \u001B[0;32mIn[22], line 1\u001B[0m\n\u001B[0;32m----> 1\u001B[0m \u001B[43mx\u001B[49m\n",
      "\u001B[0;31mNameError\u001B[0m: name 'x' is not defined"
     ]
    }
   ],
   "execution_count": 22
  }
 ],
 "metadata": {
  "kernelspec": {
   "display_name": "Python 3",
   "language": "python",
   "name": "python3"
  },
  "language_info": {
   "codemirror_mode": {
    "name": "ipython",
    "version": 2
   },
   "file_extension": ".py",
   "mimetype": "text/x-python",
   "name": "python",
   "nbconvert_exporter": "python",
   "pygments_lexer": "ipython2",
   "version": "2.7.6"
  }
 },
 "nbformat": 4,
 "nbformat_minor": 5
}
