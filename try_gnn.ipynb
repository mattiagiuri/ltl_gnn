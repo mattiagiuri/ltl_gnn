{
 "cells": [
  {
   "cell_type": "code",
   "execution_count": 1,
   "id": "initial_id",
   "metadata": {
    "collapsed": true,
    "ExecuteTime": {
     "end_time": "2024-04-16T14:06:04.954922716Z",
     "start_time": "2024-04-16T14:06:02.688358062Z"
    }
   },
   "outputs": [],
   "source": [
    "import torch_geometric\n",
    "import torch\n",
    "import torch.nn.functional as F\n",
    "from torch_geometric.nn import GCNConv"
   ]
  },
  {
   "cell_type": "code",
   "execution_count": 3,
   "outputs": [],
   "source": [
    "x = torch.tensor([[1., 0., 1., 0., 0., 0.],\n",
    "        [0., 0., 1., 0., 0., 1.],\n",
    "        [0., 0., 0., 1., 0., 0.],\n",
    "        [0., 1., 0., 0., 0., 0.],\n",
    "        [1., 0., 0., 1., 0., 0.],\n",
    "        [0., 1., 0., 0., 0., 0.],\n",
    "        [1., 1., 1., 1., 0., 0.]])\n",
    "edge_index = torch.tensor([[0, 0, 2, 2, 3, 3, 4, 4, 1, 1, 5, 5, 6, 6, 6],\n",
    "        [1, 0, 1, 0, 1, 0, 4, 2, 4, 2, 4, 2, 6, 3, 5]], dtype=torch.long)\n",
    "data = torch_geometric.data.Data(x=x, edge_index=edge_index)"
   ],
   "metadata": {
    "collapsed": false,
    "ExecuteTime": {
     "end_time": "2024-04-15T22:50:49.134016054Z",
     "start_time": "2024-04-15T22:50:49.126354005Z"
    }
   },
   "id": "c72582a38ff8704"
  },
  {
   "cell_type": "code",
   "execution_count": 5,
   "outputs": [
    {
     "data": {
      "text/plain": "True"
     },
     "execution_count": 5,
     "metadata": {},
     "output_type": "execute_result"
    }
   ],
   "source": [
    "data.validate()"
   ],
   "metadata": {
    "collapsed": false,
    "ExecuteTime": {
     "end_time": "2024-04-15T22:51:31.428567287Z",
     "start_time": "2024-04-15T22:51:31.408978663Z"
    }
   },
   "id": "f62e8caf86504d41"
  },
  {
   "cell_type": "code",
   "execution_count": 9,
   "outputs": [],
   "source": [
    "class GCN(torch.nn.Module):\n",
    "    def __init__(self):\n",
    "        super().__init__()\n",
    "        self.conv1 = GCNConv(data.num_node_features, 16)\n",
    "        self.conv2 = GCNConv(16, 32)\n",
    "\n",
    "    def forward(self, data):\n",
    "        x, edge_index = data.x, data.edge_index\n",
    "\n",
    "        x = self.conv1(x, edge_index)\n",
    "        x = F.relu(x)\n",
    "        x = F.dropout(x, training=self.training)\n",
    "        x = self.conv2(x, edge_index)\n",
    "        return x"
   ],
   "metadata": {
    "collapsed": false,
    "ExecuteTime": {
     "end_time": "2024-04-15T22:55:10.459499661Z",
     "start_time": "2024-04-15T22:55:10.417192509Z"
    }
   },
   "id": "61bcdca1c0ac292c"
  },
  {
   "cell_type": "code",
   "execution_count": 10,
   "outputs": [],
   "source": [
    "model = GCN()"
   ],
   "metadata": {
    "collapsed": false,
    "ExecuteTime": {
     "end_time": "2024-04-15T22:55:11.231383478Z",
     "start_time": "2024-04-15T22:55:11.201833620Z"
    }
   },
   "id": "ac6a2f7ff313d557"
  },
  {
   "cell_type": "code",
   "execution_count": 14,
   "outputs": [
    {
     "data": {
      "text/plain": "torch.Size([7, 32])"
     },
     "execution_count": 14,
     "metadata": {},
     "output_type": "execute_result"
    }
   ],
   "source": [
    "model(data).shape"
   ],
   "metadata": {
    "collapsed": false,
    "ExecuteTime": {
     "end_time": "2024-04-15T22:55:56.612607916Z",
     "start_time": "2024-04-15T22:55:56.593073936Z"
    }
   },
   "id": "defd59ef41646bbd"
  },
  {
   "cell_type": "code",
   "execution_count": 7,
   "outputs": [
    {
     "ename": "RuntimeError",
     "evalue": "stack expects each tensor to be equal size, but got [2] at entry 0 and [5] at entry 1",
     "output_type": "error",
     "traceback": [
      "\u001B[0;31m---------------------------------------------------------------------------\u001B[0m",
      "\u001B[0;31mRuntimeError\u001B[0m                              Traceback (most recent call last)",
      "Cell \u001B[0;32mIn[7], line 3\u001B[0m\n\u001B[1;32m      1\u001B[0m a \u001B[38;5;241m=\u001B[39m torch\u001B[38;5;241m.\u001B[39marange(\u001B[38;5;241m0\u001B[39m, \u001B[38;5;241m2\u001B[39m)\n\u001B[1;32m      2\u001B[0m b \u001B[38;5;241m=\u001B[39m torch\u001B[38;5;241m.\u001B[39marange(\u001B[38;5;241m3\u001B[39m, \u001B[38;5;241m8\u001B[39m)\n\u001B[0;32m----> 3\u001B[0m \u001B[43mtorch\u001B[49m\u001B[38;5;241;43m.\u001B[39;49m\u001B[43mstack\u001B[49m\u001B[43m(\u001B[49m\u001B[43m[\u001B[49m\u001B[43ma\u001B[49m\u001B[43m,\u001B[49m\u001B[43m \u001B[49m\u001B[43mb\u001B[49m\u001B[43m]\u001B[49m\u001B[43m)\u001B[49m\u001B[38;5;241m.\u001B[39mreshape(\u001B[38;5;241m4\u001B[39m, )\n",
      "\u001B[0;31mRuntimeError\u001B[0m: stack expects each tensor to be equal size, but got [2] at entry 0 and [5] at entry 1"
     ]
    }
   ],
   "source": [
    "a = torch.arange(0, 2)\n",
    "b = torch.arange(3, 8)\n",
    "torch.stack([a, b]).reshape(4, )"
   ],
   "metadata": {
    "collapsed": false,
    "ExecuteTime": {
     "end_time": "2024-04-16T14:08:38.872713586Z",
     "start_time": "2024-04-16T14:08:38.724748578Z"
    }
   },
   "id": "764108552fe6be78"
  },
  {
   "cell_type": "code",
   "execution_count": 13,
   "outputs": [
    {
     "data": {
      "text/plain": "tensor([4, 6])"
     },
     "execution_count": 13,
     "metadata": {},
     "output_type": "execute_result"
    }
   ],
   "source": [
    "b[1::2]"
   ],
   "metadata": {
    "collapsed": false,
    "ExecuteTime": {
     "end_time": "2024-04-16T14:09:11.860185581Z",
     "start_time": "2024-04-16T14:09:11.831392113Z"
    }
   },
   "id": "3031522db4f47aac"
  }
 ],
 "metadata": {
  "kernelspec": {
   "display_name": "Python 3",
   "language": "python",
   "name": "python3"
  },
  "language_info": {
   "codemirror_mode": {
    "name": "ipython",
    "version": 2
   },
   "file_extension": ".py",
   "mimetype": "text/x-python",
   "name": "python",
   "nbconvert_exporter": "python",
   "pygments_lexer": "ipython2",
   "version": "2.7.6"
  }
 },
 "nbformat": 4,
 "nbformat_minor": 5
}
