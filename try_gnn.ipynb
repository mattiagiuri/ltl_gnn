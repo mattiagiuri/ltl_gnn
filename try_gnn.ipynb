{
 "cells": [
  {
   "cell_type": "code",
   "execution_count": 48,
   "outputs": [
    {
     "name": "stdout",
     "output_type": "stream",
     "text": [
      "The autoreload extension is already loaded. To reload it, use:\n",
      "  %reload_ext autoreload\n"
     ]
    }
   ],
   "source": [
    "%load_ext autoreload\n",
    "%autoreload 2"
   ],
   "metadata": {
    "collapsed": false,
    "ExecuteTime": {
     "end_time": "2024-04-25T13:44:18.720002247Z",
     "start_time": "2024-04-25T13:44:18.148775275Z"
    }
   },
   "id": "2d98a0e8256407d"
  },
  {
   "cell_type": "code",
   "execution_count": 49,
   "id": "initial_id",
   "metadata": {
    "collapsed": true,
    "ExecuteTime": {
     "end_time": "2024-04-25T13:44:18.772462447Z",
     "start_time": "2024-04-25T13:44:18.764844859Z"
    }
   },
   "outputs": [],
   "source": [
    "import torch_geometric\n",
    "import torch\n",
    "import torch.nn.functional as F\n",
    "from torch_geometric.data import Data\n",
    "from torch_geometric.nn import GCNConv\n",
    "\n",
    "import utils.torch_utils\n",
    "from model.ltl.batched_transition_graph import BatchedTransitionGraph\n",
    "from src.ltl.automata import ltl2ldba\n",
    "from src.ltl.logic import Assignment\n",
    "from src.model.ltl import TransitionGraph\n",
    "from src.utils import torch_utils"
   ]
  },
  {
   "cell_type": "code",
   "execution_count": 50,
   "outputs": [
    {
     "data": {
      "text/plain": "True"
     },
     "execution_count": 50,
     "metadata": {},
     "output_type": "execute_result"
    }
   ],
   "source": [
    "formula = 'F green'\n",
    "ldba = ltl2ldba(formula, propositions=frozenset({'green', 'red', 'yellow', 'blue'}), simplify_labels=False)\n",
    "assert ldba.check_valid()\n",
    "ldba.complete_sink_state()\n",
    "ldba.prune_impossible_transitions(Assignment.more_than_one_true_proposition(ldba.propositions))\n",
    "tg_green = TransitionGraph.from_ldba(ldba)\n",
    "tg_green.validate()"
   ],
   "metadata": {
    "collapsed": false,
    "ExecuteTime": {
     "end_time": "2024-04-25T13:44:18.772928792Z",
     "start_time": "2024-04-25T13:44:18.765058937Z"
    }
   },
   "id": "c72582a38ff8704"
  },
  {
   "cell_type": "code",
   "execution_count": 51,
   "outputs": [
    {
     "data": {
      "text/plain": "True"
     },
     "execution_count": 51,
     "metadata": {},
     "output_type": "execute_result"
    }
   ],
   "source": [
    "formula = 'F yellow'\n",
    "ldba = ltl2ldba(formula, propositions=frozenset({'green', 'red', 'yellow', 'blue'}), simplify_labels=False)\n",
    "assert ldba.check_valid()\n",
    "ldba.complete_sink_state()\n",
    "ldba.prune_impossible_transitions(Assignment.more_than_one_true_proposition(ldba.propositions))\n",
    "tg_yellow = TransitionGraph.from_ldba(ldba)\n",
    "tg_yellow.validate()"
   ],
   "metadata": {
    "collapsed": false,
    "ExecuteTime": {
     "end_time": "2024-04-25T13:44:19.084420519Z",
     "start_time": "2024-04-25T13:44:19.058996673Z"
    }
   },
   "id": "f62e8caf86504d41"
  },
  {
   "cell_type": "code",
   "execution_count": 52,
   "outputs": [],
   "source": [
    "batch = BatchedTransitionGraph([tg_green, tg_yellow], active_transitions=[[0], [0]])"
   ],
   "metadata": {
    "collapsed": false,
    "ExecuteTime": {
     "end_time": "2024-04-25T13:44:19.753443922Z",
     "start_time": "2024-04-25T13:44:19.720627947Z"
    }
   },
   "id": "55bac6e63cb48e46"
  },
  {
   "cell_type": "code",
   "execution_count": 53,
   "outputs": [
    {
     "data": {
      "text/plain": "tensor([[1., 1., 1., 0., 1., 0., 0.],\n        [0., 0., 0., 1., 0., 0., 1.],\n        [1., 1., 1., 1., 1., 0., 1.],\n        [1., 0., 1., 1., 1., 0., 0.],\n        [0., 1., 0., 0., 0., 0., 1.],\n        [1., 1., 1., 1., 1., 0., 1.]])"
     },
     "execution_count": 53,
     "metadata": {},
     "output_type": "execute_result"
    }
   ],
   "source": [
    "tg = batch.all()\n",
    "tg.x"
   ],
   "metadata": {
    "collapsed": false,
    "ExecuteTime": {
     "end_time": "2024-04-25T13:44:20.162143468Z",
     "start_time": "2024-04-25T13:44:20.130843181Z"
    }
   },
   "id": "93f6352165980728"
  },
  {
   "cell_type": "code",
   "execution_count": 54,
   "outputs": [
    {
     "data": {
      "text/plain": "tensor([[0, 1, 2, 2, 3, 4, 5, 5],\n        [0, 0, 2, 1, 3, 3, 5, 4]])"
     },
     "execution_count": 54,
     "metadata": {},
     "output_type": "execute_result"
    }
   ],
   "source": [
    "tg.edge_index"
   ],
   "metadata": {
    "collapsed": false,
    "ExecuteTime": {
     "end_time": "2024-04-25T13:44:20.786236094Z",
     "start_time": "2024-04-25T13:44:20.759218120Z"
    }
   },
   "id": "6ababd243c229854"
  },
  {
   "cell_type": "code",
   "execution_count": 56,
   "outputs": [
    {
     "name": "stdout",
     "output_type": "stream",
     "text": [
      "Num GNN parameters: 128\n"
     ]
    }
   ],
   "source": [
    "from ltl import EventuallySampler\n",
    "from envs import make_env\n",
    "from model import build_model\n",
    "from config import model_configs\n",
    "env_name = 'ltl_point_mass'\n",
    "exp = 'try'\n",
    "seed = 1\n",
    "\n",
    "env = make_env(env_name, EventuallySampler)\n",
    "config = model_configs['default']\n",
    "status = torch.load(f'experiments/ppo/{env_name}/{exp}/{seed}/status.pth', map_location='cpu')\n",
    "model = build_model(env, {}, config)"
   ],
   "metadata": {
    "collapsed": false,
    "ExecuteTime": {
     "end_time": "2024-04-25T13:44:24.256121068Z",
     "start_time": "2024-04-25T13:44:24.136432625Z"
    }
   },
   "id": "50f60b0336d62d9a"
  },
  {
   "cell_type": "code",
   "execution_count": 57,
   "outputs": [
    {
     "data": {
      "text/plain": "tensor([[ 0.3151, -0.4744, -0.3429, -0.0042, -0.0442, -0.1536,  0.6108,  0.1626,\n         -0.2558, -0.6381, -0.2399, -0.0169,  0.2209,  0.1656, -0.0635,  0.3227],\n        [ 0.3151, -0.4744, -0.3429, -0.0042, -0.0442, -0.1536,  0.6108,  0.1626,\n         -0.2558, -0.6381, -0.2399, -0.0169,  0.2209,  0.1656, -0.0635,  0.3227]],\n       grad_fn=<ScatterAddBackward0>)"
     },
     "execution_count": 57,
     "metadata": {},
     "output_type": "execute_result"
    }
   ],
   "source": [
    "model.ltl_net(batch)"
   ],
   "metadata": {
    "collapsed": false,
    "ExecuteTime": {
     "end_time": "2024-04-25T13:44:24.788007404Z",
     "start_time": "2024-04-25T13:44:24.750763513Z"
    }
   },
   "id": "2312ce3fa0bd7e0b"
  },
  {
   "cell_type": "code",
   "execution_count": 23,
   "outputs": [],
   "source": [
    "# TODO: GNN pretraining to learn distinct embeddings hopefully. Can do this in the MDP where actions correspond to choosing labels. Do I then even need to update the GNN during training? Read through LTL2Action paper again.\n",
    "# TODO: is there any way I can prevent sums of embeddings from being the same?\n",
    "# TODO: why is SPS lower even with embedding implementation? Is it the LDBA parsing or something else?"
   ],
   "metadata": {
    "collapsed": false,
    "ExecuteTime": {
     "end_time": "2024-04-24T09:29:02.826792494Z",
     "start_time": "2024-04-24T09:29:02.764128241Z"
    }
   },
   "id": "1bc84a1ec7abb807"
  },
  {
   "cell_type": "code",
   "execution_count": 23,
   "outputs": [],
   "source": [],
   "metadata": {
    "collapsed": false,
    "ExecuteTime": {
     "end_time": "2024-04-24T09:29:02.830008136Z",
     "start_time": "2024-04-24T09:29:02.806288397Z"
    }
   },
   "id": "6332151569e33607"
  }
 ],
 "metadata": {
  "kernelspec": {
   "display_name": "Python 3",
   "language": "python",
   "name": "python3"
  },
  "language_info": {
   "codemirror_mode": {
    "name": "ipython",
    "version": 2
   },
   "file_extension": ".py",
   "mimetype": "text/x-python",
   "name": "python",
   "nbconvert_exporter": "python",
   "pygments_lexer": "ipython2",
   "version": "2.7.6"
  }
 },
 "nbformat": 4,
 "nbformat_minor": 5
}
